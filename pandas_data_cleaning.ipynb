{
 "cells": [
  {
   "cell_type": "markdown",
   "metadata": {
    "toc": true
   },
   "source": [
    "<h1>Table of Contents<span class=\"tocSkip\"></span></h1>\n",
    "<div class=\"toc\"><ul class=\"toc-item\"><li><span><a href=\"#Objectives\" data-toc-modified-id=\"Objectives-1\"><span class=\"toc-item-num\">1&nbsp;&nbsp;</span>Objectives</a></span></li><li><span><a href=\"#More-Pandas\" data-toc-modified-id=\"More-Pandas-2\"><span class=\"toc-item-num\">2&nbsp;&nbsp;</span>More Pandas</a></span><ul class=\"toc-item\"><li><span><a href=\"#Loading-the-Data\" data-toc-modified-id=\"Loading-the-Data-2.1\"><span class=\"toc-item-num\">2.1&nbsp;&nbsp;</span>Loading the Data</a></span></li></ul></li><li><span><a href=\"#Exploratory-Data-Analysis-(EDA)\" data-toc-modified-id=\"Exploratory-Data-Analysis-(EDA)-3\"><span class=\"toc-item-num\">3&nbsp;&nbsp;</span>Exploratory Data Analysis (EDA)</a></span><ul class=\"toc-item\"><li><span><a href=\"#Inspecting-the-Data\" data-toc-modified-id=\"Inspecting-the-Data-3.1\"><span class=\"toc-item-num\">3.1&nbsp;&nbsp;</span>Inspecting the Data</a></span></li><li><span><a href=\"#Question-1:-What-animal-types-are-in-the-dataset?\" data-toc-modified-id=\"Question-1:-What-animal-types-are-in-the-dataset?-3.2\"><span class=\"toc-item-num\">3.2&nbsp;&nbsp;</span>Question 1: What animal types are in the dataset?</a></span></li><li><span><a href=\"#Question-2:-What-&quot;Other&quot;-animals-are-in-the-dataset?\" data-toc-modified-id=\"Question-2:-What-&quot;Other&quot;-animals-are-in-the-dataset?-3.3\"><span class=\"toc-item-num\">3.3&nbsp;&nbsp;</span>Question 2: What \"Other\" animals are in the dataset?</a></span></li><li><span><a href=\"#Question-3:-How-old-are-the-animals-in-our-dataset?\" data-toc-modified-id=\"Question-3:-How-old-are-the-animals-in-our-dataset?-3.4\"><span class=\"toc-item-num\">3.4&nbsp;&nbsp;</span>Question 3: How old are the animals in our dataset?</a></span><ul class=\"toc-item\"><li><span><a href=\"#Series.map()\" data-toc-modified-id=\"Series.map()-3.4.1\"><span class=\"toc-item-num\">3.4.1&nbsp;&nbsp;</span><code>Series.map()</code></a></span></li><li><span><a href=\"#More-Sophisticated-Mapping\" data-toc-modified-id=\"More-Sophisticated-Mapping-3.4.2\"><span class=\"toc-item-num\">3.4.2&nbsp;&nbsp;</span>More Sophisticated Mapping</a></span></li><li><span><a href=\"#Lambda-Functions\" data-toc-modified-id=\"Lambda-Functions-3.4.3\"><span class=\"toc-item-num\">3.4.3&nbsp;&nbsp;</span>Lambda Functions</a></span></li></ul></li></ul></li><li><span><a href=\"#Handling-Missing-Data\" data-toc-modified-id=\"Handling-Missing-Data-4\"><span class=\"toc-item-num\">4&nbsp;&nbsp;</span>Handling Missing Data</a></span><ul class=\"toc-item\"><li><span><a href=\"#Fill-with-a-Relevant-Value\" data-toc-modified-id=\"Fill-with-a-Relevant-Value-4.1\"><span class=\"toc-item-num\">4.1&nbsp;&nbsp;</span>Fill with a Relevant Value</a></span></li><li><span><a href=\"#Fill-with-a-Reasonable-Value\" data-toc-modified-id=\"Fill-with-a-Reasonable-Value-4.2\"><span class=\"toc-item-num\">4.2&nbsp;&nbsp;</span>Fill with a Reasonable Value</a></span></li><li><span><a href=\"#Specify-That-the-Data-Were-Missing\" data-toc-modified-id=\"Specify-That-the-Data-Were-Missing-4.3\"><span class=\"toc-item-num\">4.3&nbsp;&nbsp;</span>Specify That the Data Were Missing</a></span></li><li><span><a href=\"#Drop-Missing-Data\" data-toc-modified-id=\"Drop-Missing-Data-4.4\"><span class=\"toc-item-num\">4.4&nbsp;&nbsp;</span>Drop Missing Data</a></span></li><li><span><a href=\"#Comparing-Before-and-After\" data-toc-modified-id=\"Comparing-Before-and-After-4.5\"><span class=\"toc-item-num\">4.5&nbsp;&nbsp;</span>Comparing Before and After</a></span></li></ul></li><li><span><a href=\"#Level-Up:-.applymap()\" data-toc-modified-id=\"Level-Up:-.applymap()-5\"><span class=\"toc-item-num\">5&nbsp;&nbsp;</span>Level Up: <code>.applymap()</code></a></span></li><li><span><a href=\"#Level-Up:-Faster-NumPy-Methods\" data-toc-modified-id=\"Level-Up:-Faster-NumPy-Methods-6\"><span class=\"toc-item-num\">6&nbsp;&nbsp;</span>Level Up: Faster NumPy Methods</a></span><ul class=\"toc-item\"><li><span><a href=\"#NumPy's-where()-Method\" data-toc-modified-id=\"NumPy's-where()-Method-6.1\"><span class=\"toc-item-num\">6.1&nbsp;&nbsp;</span>NumPy's <code>where()</code> Method</a></span></li><li><span><a href=\"#NumPy's-select()-Method\" data-toc-modified-id=\"NumPy's-select()-Method-6.2\"><span class=\"toc-item-num\">6.2&nbsp;&nbsp;</span>NumPy's <code>select()</code> Method</a></span></li></ul></li></ul></div>"
   ]
  },
  {
   "cell_type": "markdown",
   "metadata": {},
   "source": [
    "![panda](http://res.freestockphotos.biz/thumbs/3/3173-illustration-of-a-giant-panda-eating-bamboo-th.png)"
   ]
  },
  {
   "cell_type": "code",
   "execution_count": 1,
   "metadata": {},
   "outputs": [],
   "source": [
    "import numpy as np\n",
    "import pandas as pd\n",
    "\n",
    "from matplotlib import pyplot as plt\n",
    "%matplotlib inline"
   ]
  },
  {
   "cell_type": "markdown",
   "metadata": {
    "heading_collapsed": true
   },
   "source": [
    "# Objectives"
   ]
  },
  {
   "cell_type": "markdown",
   "metadata": {
    "hidden": true
   },
   "source": [
    "- Use lambda functions and DataFrame methods to transform data\n",
    "- Handle missing data"
   ]
  },
  {
   "cell_type": "markdown",
   "metadata": {
    "heading_collapsed": true
   },
   "source": [
    "# More Pandas"
   ]
  },
  {
   "cell_type": "markdown",
   "metadata": {
    "hidden": true
   },
   "source": [
    "Suppose you were interested in opening an animal shelter. To inform your planning, it would be useful to analyze data from other shelters to understand their operations. In this lecture, we'll analyze animal outcome data from the Austin Animal Center.  "
   ]
  },
  {
   "cell_type": "markdown",
   "metadata": {
    "heading_collapsed": true,
    "hidden": true
   },
   "source": [
    "## Loading the Data"
   ]
  },
  {
   "cell_type": "markdown",
   "metadata": {
    "hidden": true
   },
   "source": [
    "Let's take a moment to examine the [Austin Animal Center data set](https://data.austintexas.gov/Health-and-Community-Services/Austin-Animal-Center-Outcomes/9t4d-g238/data). \n",
    "\n",
    "We can also ingest the data right off the web, as we do below. The code below will load JSON data for the last 1000 animals to leave the center from this [JSON file](https://data.austintexas.gov/resource/9t4d-g238.json). "
   ]
  },
  {
   "cell_type": "code",
   "execution_count": 2,
   "metadata": {
    "hidden": true
   },
   "outputs": [],
   "source": [
    "json_url = 'https://data.austintexas.gov/resource/9t4d-g238.json'\n",
    "animals = pd.read_json(json_url)"
   ]
  },
  {
   "cell_type": "markdown",
   "metadata": {
    "heading_collapsed": true
   },
   "source": [
    "# Exploratory Data Analysis (EDA)"
   ]
  },
  {
   "cell_type": "markdown",
   "metadata": {
    "hidden": true
   },
   "source": [
    "Exploring a new dataset is essential for understanding what it contains. This will generate ideas for processing the data and questions to try to answer in further analysis."
   ]
  },
  {
   "cell_type": "markdown",
   "metadata": {
    "heading_collapsed": true,
    "hidden": true
   },
   "source": [
    "## Inspecting the Data"
   ]
  },
  {
   "cell_type": "markdown",
   "metadata": {
    "hidden": true
   },
   "source": [
    "Let's take a look at a few rows of data."
   ]
  },
  {
   "cell_type": "code",
   "execution_count": 3,
   "metadata": {
    "hidden": true
   },
   "outputs": [
    {
     "data": {
      "text/html": [
       "<div>\n",
       "<style scoped>\n",
       "    .dataframe tbody tr th:only-of-type {\n",
       "        vertical-align: middle;\n",
       "    }\n",
       "\n",
       "    .dataframe tbody tr th {\n",
       "        vertical-align: top;\n",
       "    }\n",
       "\n",
       "    .dataframe thead th {\n",
       "        text-align: right;\n",
       "    }\n",
       "</style>\n",
       "<table border=\"1\" class=\"dataframe\">\n",
       "  <thead>\n",
       "    <tr style=\"text-align: right;\">\n",
       "      <th></th>\n",
       "      <th>animal_id</th>\n",
       "      <th>datetime</th>\n",
       "      <th>monthyear</th>\n",
       "      <th>date_of_birth</th>\n",
       "      <th>outcome_type</th>\n",
       "      <th>animal_type</th>\n",
       "      <th>sex_upon_outcome</th>\n",
       "      <th>age_upon_outcome</th>\n",
       "      <th>breed</th>\n",
       "      <th>color</th>\n",
       "      <th>name</th>\n",
       "      <th>outcome_subtype</th>\n",
       "    </tr>\n",
       "  </thead>\n",
       "  <tbody>\n",
       "    <tr>\n",
       "      <th>0</th>\n",
       "      <td>A851721</td>\n",
       "      <td>2022-02-23 18:04:00</td>\n",
       "      <td>2022-02-23T18:04:00.000</td>\n",
       "      <td>2021-11-02T00:00:00.000</td>\n",
       "      <td>Adoption</td>\n",
       "      <td>Cat</td>\n",
       "      <td>Spayed Female</td>\n",
       "      <td>3 months</td>\n",
       "      <td>Domestic Shorthair</td>\n",
       "      <td>Torbie/White</td>\n",
       "      <td>NaN</td>\n",
       "      <td>NaN</td>\n",
       "    </tr>\n",
       "    <tr>\n",
       "      <th>1</th>\n",
       "      <td>A851776</td>\n",
       "      <td>2022-02-23 17:54:00</td>\n",
       "      <td>2022-02-23T17:54:00.000</td>\n",
       "      <td>2021-02-18T00:00:00.000</td>\n",
       "      <td>Adoption</td>\n",
       "      <td>Cat</td>\n",
       "      <td>Neutered Male</td>\n",
       "      <td>1 year</td>\n",
       "      <td>Domestic Medium Hair Mix</td>\n",
       "      <td>Black</td>\n",
       "      <td>*Frito</td>\n",
       "      <td>NaN</td>\n",
       "    </tr>\n",
       "    <tr>\n",
       "      <th>2</th>\n",
       "      <td>A851807</td>\n",
       "      <td>2022-02-23 17:26:00</td>\n",
       "      <td>2022-02-23T17:26:00.000</td>\n",
       "      <td>2021-12-19T00:00:00.000</td>\n",
       "      <td>Return to Owner</td>\n",
       "      <td>Dog</td>\n",
       "      <td>Intact Female</td>\n",
       "      <td>2 months</td>\n",
       "      <td>Pit Bull</td>\n",
       "      <td>Brown Brindle/White</td>\n",
       "      <td>Harley</td>\n",
       "      <td>NaN</td>\n",
       "    </tr>\n",
       "    <tr>\n",
       "      <th>3</th>\n",
       "      <td>A840070</td>\n",
       "      <td>2022-02-23 17:22:00</td>\n",
       "      <td>2022-02-23T17:22:00.000</td>\n",
       "      <td>2020-02-02T00:00:00.000</td>\n",
       "      <td>Adoption</td>\n",
       "      <td>Dog</td>\n",
       "      <td>Neutered Male</td>\n",
       "      <td>2 years</td>\n",
       "      <td>Siberian Husky</td>\n",
       "      <td>White/Gray</td>\n",
       "      <td>*Guthrie</td>\n",
       "      <td>NaN</td>\n",
       "    </tr>\n",
       "    <tr>\n",
       "      <th>4</th>\n",
       "      <td>A851532</td>\n",
       "      <td>2022-02-23 17:00:00</td>\n",
       "      <td>2022-02-23T17:00:00.000</td>\n",
       "      <td>2015-02-14T00:00:00.000</td>\n",
       "      <td>Transfer</td>\n",
       "      <td>Dog</td>\n",
       "      <td>Neutered Male</td>\n",
       "      <td>7 years</td>\n",
       "      <td>Bulldog Mix</td>\n",
       "      <td>Blue/White</td>\n",
       "      <td>Yeti</td>\n",
       "      <td>Partner</td>\n",
       "    </tr>\n",
       "  </tbody>\n",
       "</table>\n",
       "</div>"
      ],
      "text/plain": [
       "  animal_id            datetime                monthyear  \\\n",
       "0   A851721 2022-02-23 18:04:00  2022-02-23T18:04:00.000   \n",
       "1   A851776 2022-02-23 17:54:00  2022-02-23T17:54:00.000   \n",
       "2   A851807 2022-02-23 17:26:00  2022-02-23T17:26:00.000   \n",
       "3   A840070 2022-02-23 17:22:00  2022-02-23T17:22:00.000   \n",
       "4   A851532 2022-02-23 17:00:00  2022-02-23T17:00:00.000   \n",
       "\n",
       "             date_of_birth     outcome_type animal_type sex_upon_outcome  \\\n",
       "0  2021-11-02T00:00:00.000         Adoption         Cat    Spayed Female   \n",
       "1  2021-02-18T00:00:00.000         Adoption         Cat    Neutered Male   \n",
       "2  2021-12-19T00:00:00.000  Return to Owner         Dog    Intact Female   \n",
       "3  2020-02-02T00:00:00.000         Adoption         Dog    Neutered Male   \n",
       "4  2015-02-14T00:00:00.000         Transfer         Dog    Neutered Male   \n",
       "\n",
       "  age_upon_outcome                     breed                color      name  \\\n",
       "0         3 months        Domestic Shorthair         Torbie/White       NaN   \n",
       "1           1 year  Domestic Medium Hair Mix                Black    *Frito   \n",
       "2         2 months                  Pit Bull  Brown Brindle/White    Harley   \n",
       "3          2 years            Siberian Husky           White/Gray  *Guthrie   \n",
       "4          7 years               Bulldog Mix           Blue/White      Yeti   \n",
       "\n",
       "  outcome_subtype  \n",
       "0             NaN  \n",
       "1             NaN  \n",
       "2             NaN  \n",
       "3             NaN  \n",
       "4         Partner  "
      ]
     },
     "execution_count": 3,
     "metadata": {},
     "output_type": "execute_result"
    }
   ],
   "source": [
    "animals.head()"
   ]
  },
  {
   "cell_type": "markdown",
   "metadata": {
    "hidden": true
   },
   "source": [
    "The `info()` and `describe()` provide a useful overview of the data."
   ]
  },
  {
   "cell_type": "code",
   "execution_count": 4,
   "metadata": {
    "hidden": true
   },
   "outputs": [
    {
     "name": "stdout",
     "output_type": "stream",
     "text": [
      "<class 'pandas.core.frame.DataFrame'>\n",
      "RangeIndex: 1000 entries, 0 to 999\n",
      "Data columns (total 12 columns):\n",
      " #   Column            Non-Null Count  Dtype         \n",
      "---  ------            --------------  -----         \n",
      " 0   animal_id         1000 non-null   object        \n",
      " 1   datetime          1000 non-null   datetime64[ns]\n",
      " 2   monthyear         1000 non-null   object        \n",
      " 3   date_of_birth     1000 non-null   object        \n",
      " 4   outcome_type      1000 non-null   object        \n",
      " 5   animal_type       1000 non-null   object        \n",
      " 6   sex_upon_outcome  1000 non-null   object        \n",
      " 7   age_upon_outcome  1000 non-null   object        \n",
      " 8   breed             1000 non-null   object        \n",
      " 9   color             1000 non-null   object        \n",
      " 10  name              871 non-null    object        \n",
      " 11  outcome_subtype   401 non-null    object        \n",
      "dtypes: datetime64[ns](1), object(11)\n",
      "memory usage: 93.9+ KB\n"
     ]
    }
   ],
   "source": [
    "animals.info()"
   ]
  },
  {
   "cell_type": "markdown",
   "metadata": {
    "hidden": true
   },
   "source": [
    "> We can see we have some missing data. Specifically in the `outcome_type`, `outcome_subtype`, and `name` columns."
   ]
  },
  {
   "cell_type": "code",
   "execution_count": 5,
   "metadata": {
    "hidden": true
   },
   "outputs": [
    {
     "name": "stderr",
     "output_type": "stream",
     "text": [
      "<ipython-input-5-3885fd60d0c1>:1: FutureWarning: Treating datetime data as categorical rather than numeric in `.describe` is deprecated and will be removed in a future version of pandas. Specify `datetime_is_numeric=True` to silence this warning and adopt the future behavior now.\n",
      "  animals.describe()\n"
     ]
    },
    {
     "data": {
      "text/html": [
       "<div>\n",
       "<style scoped>\n",
       "    .dataframe tbody tr th:only-of-type {\n",
       "        vertical-align: middle;\n",
       "    }\n",
       "\n",
       "    .dataframe tbody tr th {\n",
       "        vertical-align: top;\n",
       "    }\n",
       "\n",
       "    .dataframe thead th {\n",
       "        text-align: right;\n",
       "    }\n",
       "</style>\n",
       "<table border=\"1\" class=\"dataframe\">\n",
       "  <thead>\n",
       "    <tr style=\"text-align: right;\">\n",
       "      <th></th>\n",
       "      <th>animal_id</th>\n",
       "      <th>datetime</th>\n",
       "      <th>monthyear</th>\n",
       "      <th>date_of_birth</th>\n",
       "      <th>outcome_type</th>\n",
       "      <th>animal_type</th>\n",
       "      <th>sex_upon_outcome</th>\n",
       "      <th>age_upon_outcome</th>\n",
       "      <th>breed</th>\n",
       "      <th>color</th>\n",
       "      <th>name</th>\n",
       "      <th>outcome_subtype</th>\n",
       "    </tr>\n",
       "  </thead>\n",
       "  <tbody>\n",
       "    <tr>\n",
       "      <th>count</th>\n",
       "      <td>1000</td>\n",
       "      <td>1000</td>\n",
       "      <td>1000</td>\n",
       "      <td>1000</td>\n",
       "      <td>1000</td>\n",
       "      <td>1000</td>\n",
       "      <td>1000</td>\n",
       "      <td>1000</td>\n",
       "      <td>1000</td>\n",
       "      <td>1000</td>\n",
       "      <td>871</td>\n",
       "      <td>401</td>\n",
       "    </tr>\n",
       "    <tr>\n",
       "      <th>unique</th>\n",
       "      <td>975</td>\n",
       "      <td>897</td>\n",
       "      <td>897</td>\n",
       "      <td>530</td>\n",
       "      <td>7</td>\n",
       "      <td>4</td>\n",
       "      <td>5</td>\n",
       "      <td>34</td>\n",
       "      <td>159</td>\n",
       "      <td>114</td>\n",
       "      <td>780</td>\n",
       "      <td>12</td>\n",
       "    </tr>\n",
       "    <tr>\n",
       "      <th>top</th>\n",
       "      <td>A849817</td>\n",
       "      <td>2022-02-09 15:30:00</td>\n",
       "      <td>2022-02-09T15:30:00.000</td>\n",
       "      <td>2021-12-10T00:00:00.000</td>\n",
       "      <td>Adoption</td>\n",
       "      <td>Dog</td>\n",
       "      <td>Spayed Female</td>\n",
       "      <td>2 years</td>\n",
       "      <td>Domestic Shorthair</td>\n",
       "      <td>Black/White</td>\n",
       "      <td>Luna</td>\n",
       "      <td>Partner</td>\n",
       "    </tr>\n",
       "    <tr>\n",
       "      <th>freq</th>\n",
       "      <td>3</td>\n",
       "      <td>5</td>\n",
       "      <td>5</td>\n",
       "      <td>13</td>\n",
       "      <td>587</td>\n",
       "      <td>631</td>\n",
       "      <td>364</td>\n",
       "      <td>230</td>\n",
       "      <td>190</td>\n",
       "      <td>112</td>\n",
       "      <td>8</td>\n",
       "      <td>146</td>\n",
       "    </tr>\n",
       "    <tr>\n",
       "      <th>first</th>\n",
       "      <td>NaN</td>\n",
       "      <td>2022-01-20 15:54:00</td>\n",
       "      <td>NaN</td>\n",
       "      <td>NaN</td>\n",
       "      <td>NaN</td>\n",
       "      <td>NaN</td>\n",
       "      <td>NaN</td>\n",
       "      <td>NaN</td>\n",
       "      <td>NaN</td>\n",
       "      <td>NaN</td>\n",
       "      <td>NaN</td>\n",
       "      <td>NaN</td>\n",
       "    </tr>\n",
       "    <tr>\n",
       "      <th>last</th>\n",
       "      <td>NaN</td>\n",
       "      <td>2022-02-23 18:04:00</td>\n",
       "      <td>NaN</td>\n",
       "      <td>NaN</td>\n",
       "      <td>NaN</td>\n",
       "      <td>NaN</td>\n",
       "      <td>NaN</td>\n",
       "      <td>NaN</td>\n",
       "      <td>NaN</td>\n",
       "      <td>NaN</td>\n",
       "      <td>NaN</td>\n",
       "      <td>NaN</td>\n",
       "    </tr>\n",
       "  </tbody>\n",
       "</table>\n",
       "</div>"
      ],
      "text/plain": [
       "       animal_id             datetime                monthyear  \\\n",
       "count       1000                 1000                     1000   \n",
       "unique       975                  897                      897   \n",
       "top      A849817  2022-02-09 15:30:00  2022-02-09T15:30:00.000   \n",
       "freq           3                    5                        5   \n",
       "first        NaN  2022-01-20 15:54:00                      NaN   \n",
       "last         NaN  2022-02-23 18:04:00                      NaN   \n",
       "\n",
       "                  date_of_birth outcome_type animal_type sex_upon_outcome  \\\n",
       "count                      1000         1000        1000             1000   \n",
       "unique                      530            7           4                5   \n",
       "top     2021-12-10T00:00:00.000     Adoption         Dog    Spayed Female   \n",
       "freq                         13          587         631              364   \n",
       "first                       NaN          NaN         NaN              NaN   \n",
       "last                        NaN          NaN         NaN              NaN   \n",
       "\n",
       "       age_upon_outcome               breed        color  name outcome_subtype  \n",
       "count              1000                1000         1000   871             401  \n",
       "unique               34                 159          114   780              12  \n",
       "top             2 years  Domestic Shorthair  Black/White  Luna         Partner  \n",
       "freq                230                 190          112     8             146  \n",
       "first               NaN                 NaN          NaN   NaN             NaN  \n",
       "last                NaN                 NaN          NaN   NaN             NaN  "
      ]
     },
     "execution_count": 5,
     "metadata": {},
     "output_type": "execute_result"
    }
   ],
   "source": [
    "animals.describe()"
   ]
  },
  {
   "cell_type": "code",
   "execution_count": 6,
   "metadata": {
    "hidden": true
   },
   "outputs": [
    {
     "data": {
      "text/plain": [
       "Black/White                112\n",
       "Black                       71\n",
       "White                       47\n",
       "Brown Tabby                 47\n",
       "Brown/White                 37\n",
       "                          ... \n",
       "Black Smoke/Black Tabby      1\n",
       "Liver/White                  1\n",
       "Tan/Blue Tick                1\n",
       "Agouti                       1\n",
       "Tortie/White                 1\n",
       "Name: color, Length: 114, dtype: int64"
      ]
     },
     "execution_count": 6,
     "metadata": {},
     "output_type": "execute_result"
    }
   ],
   "source": [
    "# Use value counts to check a categorical feature's distribution\n",
    "\n",
    "animals['color'].value_counts()"
   ]
  },
  {
   "cell_type": "markdown",
   "metadata": {
    "hidden": true
   },
   "source": [
    "Now that we have a sense of the data available to us, we can focus in on some more specific questions to dig into. These questions may or may not be directly relevant to your goal (e.g. helping plan a new shelter), but will always help you gain a better understanding of your data.\n",
    "\n",
    "In your EDA notebooks, **markdown** will be especially helpful in tracking these questions and your methods of answering the questions.  "
   ]
  },
  {
   "cell_type": "markdown",
   "metadata": {
    "heading_collapsed": true,
    "hidden": true
   },
   "source": [
    "## Question 1: What animal types are in the dataset?"
   ]
  },
  {
   "cell_type": "markdown",
   "metadata": {
    "hidden": true
   },
   "source": [
    "We can then begin thinking about what parts of the DataFrame we need to answer the question."
   ]
  },
  {
   "cell_type": "markdown",
   "metadata": {
    "hidden": true
   },
   "source": [
    "* What features do we need?\n",
    " - \"animal_type\"\n",
    "* What type of logic and calculation do we perform?\n",
    " - Let's use `.value_counts()` to count the different animal types\n",
    "* What type of visualization would help us answer the question?\n",
    " - A bar chart would be good for this purpose"
   ]
  },
  {
   "cell_type": "code",
   "execution_count": 7,
   "metadata": {
    "hidden": true
   },
   "outputs": [
    {
     "data": {
      "text/plain": [
       "Dog      631\n",
       "Cat      313\n",
       "Other     51\n",
       "Bird       5\n",
       "Name: animal_type, dtype: int64"
      ]
     },
     "execution_count": 7,
     "metadata": {},
     "output_type": "execute_result"
    }
   ],
   "source": [
    "animals['animal_type'].value_counts()"
   ]
  },
  {
   "cell_type": "code",
   "execution_count": 8,
   "metadata": {
    "hidden": true
   },
   "outputs": [
    {
     "data": {
      "image/png": "[encoded data removed]",
      "text/plain": [
       "<Figure size 432x288 with 1 Axes>"
      ]
     },
     "metadata": {
      "needs_background": "light"
     },
     "output_type": "display_data"
    }
   ],
   "source": [
    "fig, ax = plt.subplots()\n",
    "\n",
    "animal_type_values = animals['animal_type'].value_counts()\n",
    "\n",
    "ax.barh(\n",
    "    y=animal_type_values.index,\n",
    "    width=animal_type_values.values\n",
    ")\n",
    "ax.set_xlabel('count');"
   ]
  },
  {
   "cell_type": "code",
   "execution_count": 9,
   "metadata": {
    "hidden": true
   },
   "outputs": [
    {
     "data": {
      "text/plain": [
       "<AxesSubplot:>"
      ]
     },
     "execution_count": 9,
     "metadata": {},
     "output_type": "execute_result"
    },
    {
     "data": {
      "image/png": "[encoded data removed]",
      "text/plain": [
       "<Figure size 432x288 with 1 Axes>"
      ]
     },
     "metadata": {
      "needs_background": "light"
     },
     "output_type": "display_data"
    }
   ],
   "source": [
    "animals['animal_type'].hist()"
   ]
  },
  {
   "cell_type": "markdown",
   "metadata": {
    "hidden": true
   },
   "source": [
    "Questions lead to other questions. For the above example, the visualization raises the question..."
   ]
  },
  {
   "cell_type": "markdown",
   "metadata": {
    "heading_collapsed": true,
    "hidden": true
   },
   "source": [
    "## Question 2: What \"Other\" animals are in the dataset?"
   ]
  },
  {
   "cell_type": "markdown",
   "metadata": {
    "hidden": true
   },
   "source": [
    "To find out, we need to know whether the type of animal for \"Other\" is in our dataset - and if so, where to find it.   "
   ]
  },
  {
   "cell_type": "markdown",
   "metadata": {
    "hidden": true
   },
   "source": [
    "**Discussion**: Where might we look to find animal types within the Other category?\n",
    "\n",
    "<details>\n",
    "    <summary>\n",
    "        Answer\n",
    "    </summary>\n",
    "        The breed column.\n",
    "</details>"
   ]
  },
  {
   "cell_type": "code",
   "execution_count": 10,
   "metadata": {
    "hidden": true
   },
   "outputs": [
    {
     "data": {
      "text/plain": [
       "Domestic Shorthair                        190\n",
       "Pit Bull                                   75\n",
       "Labrador Retriever Mix                     55\n",
       "Domestic Shorthair Mix                     55\n",
       "Pit Bull Mix                               51\n",
       "                                         ... \n",
       "Pit Bull/Pointer                            1\n",
       "Manchester Terrier Mix                      1\n",
       "Chihuahua Shorthair/Standard Schnauzer      1\n",
       "Doberman Pinsch Mix                         1\n",
       "American Pit Bull Terrier                   1\n",
       "Name: breed, Length: 159, dtype: int64"
      ]
     },
     "execution_count": 10,
     "metadata": {},
     "output_type": "execute_result"
    }
   ],
   "source": [
    "animals['breed'].value_counts()"
   ]
  },
  {
   "cell_type": "markdown",
   "metadata": {
    "hidden": true
   },
   "source": [
    "Let's use that column to answer our question."
   ]
  },
  {
   "cell_type": "code",
   "execution_count": 11,
   "metadata": {
    "hidden": true
   },
   "outputs": [
    {
     "data": {
      "text/plain": [
       "Raccoon         23\n",
       "Rabbit Sh       11\n",
       "Bat              7\n",
       "Guinea Pig       6\n",
       "Fox              2\n",
       "Lionhead Mix     1\n",
       "Ferret           1\n",
       "Name: breed, dtype: int64"
      ]
     },
     "execution_count": 11,
     "metadata": {},
     "output_type": "execute_result"
    }
   ],
   "source": [
    "mask_other_animals = animals['animal_type'] == 'Other'\n",
    "animals[mask_other_animals]['breed'].value_counts()"
   ]
  },
  {
   "cell_type": "markdown",
   "metadata": {
    "heading_collapsed": true,
    "hidden": true
   },
   "source": [
    "## Question 3: How old are the animals in our dataset?"
   ]
  },
  {
   "cell_type": "markdown",
   "metadata": {
    "hidden": true
   },
   "source": [
    "Let's try to answer this with the `age_upon_outcome` variable to learn some new `pandas` tools."
   ]
  },
  {
   "cell_type": "code",
   "execution_count": 12,
   "metadata": {
    "hidden": true
   },
   "outputs": [
    {
     "data": {
      "text/plain": [
       "2 years      230\n",
       "1 year       152\n",
       "2 months     135\n",
       "3 months      52\n",
       "5 months      40\n",
       "3 years       37\n",
       "4 months      34\n",
       "6 months      33\n",
       "5 years       27\n",
       "10 months     25\n",
       "4 years       24\n",
       "1 month       23\n",
       "7 years       19\n",
       "9 months      17\n",
       "8 months      17\n",
       "7 months      16\n",
       "8 years       15\n",
       "6 years       14\n",
       "10 years      13\n",
       "1 weeks        9\n",
       "2 weeks        9\n",
       "5 days         9\n",
       "9 years        8\n",
       "11 months      7\n",
       "12 years       6\n",
       "NULL           5\n",
       "13 years       5\n",
       "0 years        5\n",
       "11 years       4\n",
       "1 day          4\n",
       "14 years       3\n",
       "15 years       1\n",
       "3 weeks        1\n",
       "5 weeks        1\n",
       "Name: age_upon_outcome, dtype: int64"
      ]
     },
     "execution_count": 12,
     "metadata": {},
     "output_type": "execute_result"
    }
   ],
   "source": [
    "animals['age_upon_outcome'].value_counts()"
   ]
  },
  {
   "cell_type": "markdown",
   "metadata": {
    "heading_collapsed": true,
    "hidden": true
   },
   "source": [
    "### `Series.map()`"
   ]
  },
  {
   "cell_type": "markdown",
   "metadata": {
    "hidden": true
   },
   "source": [
    "The `.map()` method applies a transformation to every entry in the Series. This transformation  \"maps\" each value from the Series to a new value. A transformation can be defined by a function, Series, or dictionary - usually we'll use functions."
   ]
  },
  {
   "cell_type": "markdown",
   "metadata": {
    "hidden": true
   },
   "source": [
    "The `.apply()` method is similar to the `.map()` method for Series, but can only use functions. It has more powerful uses when working with DataFrames."
   ]
  },
  {
   "cell_type": "code",
   "execution_count": 13,
   "metadata": {
    "hidden": true
   },
   "outputs": [],
   "source": [
    "def one_year(age):\n",
    "    if age == '1 year':\n",
    "        return '1 years'\n",
    "    else:\n",
    "        return age"
   ]
  },
  {
   "cell_type": "code",
   "execution_count": 14,
   "metadata": {
    "hidden": true,
    "scrolled": true
   },
   "outputs": [
    {
     "data": {
      "text/plain": [
       "2 years      230\n",
       "1 years      152\n",
       "2 months     135\n",
       "3 months      52\n",
       "5 months      40\n",
       "3 years       37\n",
       "4 months      34\n",
       "6 months      33\n",
       "5 years       27\n",
       "10 months     25\n",
       "4 years       24\n",
       "1 month       23\n",
       "7 years       19\n",
       "8 months      17\n",
       "9 months      17\n",
       "7 months      16\n",
       "8 years       15\n",
       "6 years       14\n",
       "10 years      13\n",
       "1 weeks        9\n",
       "5 days         9\n",
       "2 weeks        9\n",
       "9 years        8\n",
       "11 months      7\n",
       "12 years       6\n",
       "NULL           5\n",
       "13 years       5\n",
       "0 years        5\n",
       "1 day          4\n",
       "11 years       4\n",
       "14 years       3\n",
       "15 years       1\n",
       "5 weeks        1\n",
       "3 weeks        1\n",
       "Name: new_age1, dtype: int64"
      ]
     },
     "execution_count": 14,
     "metadata": {},
     "output_type": "execute_result"
    }
   ],
   "source": [
    "animals['new_age1'] = animals['age_upon_outcome'].map(one_year)\n",
    "animals['new_age1'].value_counts()"
   ]
  },
  {
   "cell_type": "markdown",
   "metadata": {
    "heading_collapsed": true,
    "hidden": true
   },
   "source": [
    "### More Sophisticated Mapping"
   ]
  },
  {
   "cell_type": "markdown",
   "metadata": {
    "hidden": true
   },
   "source": [
    "Let's use `.map()` to turn sex_upon_outcome into a category with three values (called **ternary**): male, female, or unknown. "
   ]
  },
  {
   "cell_type": "markdown",
   "metadata": {
    "hidden": true
   },
   "source": [
    "First, explore the unique values:"
   ]
  },
  {
   "cell_type": "code",
   "execution_count": 15,
   "metadata": {
    "hidden": true
   },
   "outputs": [
    {
     "data": {
      "text/plain": [
       "array(['Spayed Female', 'Neutered Male', 'Intact Female', 'Intact Male',\n",
       "       'Unknown'], dtype=object)"
      ]
     },
     "execution_count": 15,
     "metadata": {},
     "output_type": "execute_result"
    }
   ],
   "source": [
    "animals['sex_upon_outcome'].unique()"
   ]
  },
  {
   "cell_type": "code",
   "execution_count": 16,
   "metadata": {
    "hidden": true
   },
   "outputs": [],
   "source": [
    "def sex_mapper(status):\n",
    "    if status in ['Neutered Male', 'Intact Male']:\n",
    "        return 'Male'\n",
    "    elif status in ['Spayed Female', 'Intact Female']:\n",
    "        return 'Female'\n",
    "    else:\n",
    "        return 'Unknown'"
   ]
  },
  {
   "cell_type": "code",
   "execution_count": 17,
   "metadata": {
    "hidden": true
   },
   "outputs": [
    {
     "data": {
      "text/plain": [
       "0      Female\n",
       "1        Male\n",
       "2      Female\n",
       "3        Male\n",
       "4        Male\n",
       "        ...  \n",
       "995    Female\n",
       "996      Male\n",
       "997    Female\n",
       "998    Female\n",
       "999      Male\n",
       "Name: new_sex1, Length: 1000, dtype: object"
      ]
     },
     "execution_count": 17,
     "metadata": {},
     "output_type": "execute_result"
    }
   ],
   "source": [
    "animals['new_sex1'] = animals['sex_upon_outcome'].map(sex_mapper)\n",
    "animals['new_sex1']"
   ]
  },
  {
   "cell_type": "markdown",
   "metadata": {
    "heading_collapsed": true,
    "hidden": true
   },
   "source": [
    "### Lambda Functions"
   ]
  },
  {
   "cell_type": "markdown",
   "metadata": {
    "hidden": true
   },
   "source": [
    "Simple functions can be defined just when you need them, when you would call the function. These are called **lambda functions**. These functions are **anonymous** and disappear immediately after use."
   ]
  },
  {
   "cell_type": "markdown",
   "metadata": {
    "hidden": true
   },
   "source": [
    "Let's use a lambda function to get rid of 'Other' in the \"animal_type' column."
   ]
  },
  {
   "cell_type": "code",
   "execution_count": 18,
   "metadata": {
    "hidden": true
   },
   "outputs": [
    {
     "data": {
      "text/html": [
       "<div>\n",
       "<style scoped>\n",
       "    .dataframe tbody tr th:only-of-type {\n",
       "        vertical-align: middle;\n",
       "    }\n",
       "\n",
       "    .dataframe tbody tr th {\n",
       "        vertical-align: top;\n",
       "    }\n",
       "\n",
       "    .dataframe thead th {\n",
       "        text-align: right;\n",
       "    }\n",
       "</style>\n",
       "<table border=\"1\" class=\"dataframe\">\n",
       "  <thead>\n",
       "    <tr style=\"text-align: right;\">\n",
       "      <th></th>\n",
       "      <th>animal_id</th>\n",
       "      <th>datetime</th>\n",
       "      <th>monthyear</th>\n",
       "      <th>date_of_birth</th>\n",
       "      <th>outcome_type</th>\n",
       "      <th>animal_type</th>\n",
       "      <th>sex_upon_outcome</th>\n",
       "      <th>age_upon_outcome</th>\n",
       "      <th>breed</th>\n",
       "      <th>color</th>\n",
       "      <th>name</th>\n",
       "      <th>outcome_subtype</th>\n",
       "      <th>new_age1</th>\n",
       "      <th>new_sex1</th>\n",
       "    </tr>\n",
       "  </thead>\n",
       "  <tbody>\n",
       "    <tr>\n",
       "      <th>25</th>\n",
       "      <td>A851825</td>\n",
       "      <td>2022-02-23 11:21:00</td>\n",
       "      <td>2022-02-23T11:21:00.000</td>\n",
       "      <td>2020-02-19T00:00:00.000</td>\n",
       "      <td>Disposal</td>\n",
       "      <td>Other</td>\n",
       "      <td>Unknown</td>\n",
       "      <td>2 years</td>\n",
       "      <td>Fox</td>\n",
       "      <td>Red/Black</td>\n",
       "      <td>A851825</td>\n",
       "      <td>NaN</td>\n",
       "      <td>2 years</td>\n",
       "      <td>Unknown</td>\n",
       "    </tr>\n",
       "    <tr>\n",
       "      <th>27</th>\n",
       "      <td>A852014</td>\n",
       "      <td>2022-02-23 10:38:00</td>\n",
       "      <td>2022-02-23T10:38:00.000</td>\n",
       "      <td>2020-02-23T00:00:00.000</td>\n",
       "      <td>Euthanasia</td>\n",
       "      <td>Other</td>\n",
       "      <td>Unknown</td>\n",
       "      <td>2 years</td>\n",
       "      <td>Raccoon</td>\n",
       "      <td>Gray/Black</td>\n",
       "      <td>NaN</td>\n",
       "      <td>Suffering</td>\n",
       "      <td>2 years</td>\n",
       "      <td>Unknown</td>\n",
       "    </tr>\n",
       "    <tr>\n",
       "      <th>79</th>\n",
       "      <td>A851928</td>\n",
       "      <td>2022-02-21 17:20:00</td>\n",
       "      <td>2022-02-21T17:20:00.000</td>\n",
       "      <td>2020-02-21T00:00:00.000</td>\n",
       "      <td>Euthanasia</td>\n",
       "      <td>Other</td>\n",
       "      <td>Unknown</td>\n",
       "      <td>2 years</td>\n",
       "      <td>Raccoon</td>\n",
       "      <td>Brown</td>\n",
       "      <td>NaN</td>\n",
       "      <td>Rabies Risk</td>\n",
       "      <td>2 years</td>\n",
       "      <td>Unknown</td>\n",
       "    </tr>\n",
       "    <tr>\n",
       "      <th>88</th>\n",
       "      <td>A851861</td>\n",
       "      <td>2022-02-20 12:32:00</td>\n",
       "      <td>2022-02-20T12:32:00.000</td>\n",
       "      <td>2020-02-20T00:00:00.000</td>\n",
       "      <td>Euthanasia</td>\n",
       "      <td>Other</td>\n",
       "      <td>Unknown</td>\n",
       "      <td>NULL</td>\n",
       "      <td>Raccoon</td>\n",
       "      <td>Brown</td>\n",
       "      <td>NaN</td>\n",
       "      <td>Rabies Risk</td>\n",
       "      <td>NULL</td>\n",
       "      <td>Unknown</td>\n",
       "    </tr>\n",
       "    <tr>\n",
       "      <th>89</th>\n",
       "      <td>A851646</td>\n",
       "      <td>2022-02-20 10:30:00</td>\n",
       "      <td>2022-02-20T10:30:00.000</td>\n",
       "      <td>2020-02-16T00:00:00.000</td>\n",
       "      <td>Euthanasia</td>\n",
       "      <td>Other</td>\n",
       "      <td>Unknown</td>\n",
       "      <td>2 years</td>\n",
       "      <td>Raccoon</td>\n",
       "      <td>Gray/Black</td>\n",
       "      <td>NaN</td>\n",
       "      <td>Rabies Risk</td>\n",
       "      <td>2 years</td>\n",
       "      <td>Unknown</td>\n",
       "    </tr>\n",
       "    <tr>\n",
       "      <th>113</th>\n",
       "      <td>A851617</td>\n",
       "      <td>2022-02-19 11:20:00</td>\n",
       "      <td>2022-02-19T11:20:00.000</td>\n",
       "      <td>2020-02-15T00:00:00.000</td>\n",
       "      <td>Euthanasia</td>\n",
       "      <td>Other</td>\n",
       "      <td>Unknown</td>\n",
       "      <td>2 years</td>\n",
       "      <td>Bat</td>\n",
       "      <td>Brown/Brown</td>\n",
       "      <td>NaN</td>\n",
       "      <td>Rabies Risk</td>\n",
       "      <td>2 years</td>\n",
       "      <td>Unknown</td>\n",
       "    </tr>\n",
       "    <tr>\n",
       "      <th>115</th>\n",
       "      <td>A851757</td>\n",
       "      <td>2022-02-19 07:39:00</td>\n",
       "      <td>2022-02-19T07:39:00.000</td>\n",
       "      <td>2020-02-18T00:00:00.000</td>\n",
       "      <td>Euthanasia</td>\n",
       "      <td>Other</td>\n",
       "      <td>Unknown</td>\n",
       "      <td>2 years</td>\n",
       "      <td>Raccoon</td>\n",
       "      <td>Black/Gray</td>\n",
       "      <td>NaN</td>\n",
       "      <td>Suffering</td>\n",
       "      <td>2 years</td>\n",
       "      <td>Unknown</td>\n",
       "    </tr>\n",
       "    <tr>\n",
       "      <th>148</th>\n",
       "      <td>A851744</td>\n",
       "      <td>2022-02-18 09:35:00</td>\n",
       "      <td>2022-02-18T09:35:00.000</td>\n",
       "      <td>2020-02-17T00:00:00.000</td>\n",
       "      <td>Euthanasia</td>\n",
       "      <td>Other</td>\n",
       "      <td>Unknown</td>\n",
       "      <td>2 years</td>\n",
       "      <td>Bat</td>\n",
       "      <td>Brown</td>\n",
       "      <td>NaN</td>\n",
       "      <td>Rabies Risk</td>\n",
       "      <td>2 years</td>\n",
       "      <td>Unknown</td>\n",
       "    </tr>\n",
       "    <tr>\n",
       "      <th>187</th>\n",
       "      <td>A851644</td>\n",
       "      <td>2022-02-16 10:29:00</td>\n",
       "      <td>2022-02-16T10:29:00.000</td>\n",
       "      <td>2020-02-16T00:00:00.000</td>\n",
       "      <td>Euthanasia</td>\n",
       "      <td>Other</td>\n",
       "      <td>Unknown</td>\n",
       "      <td>2 years</td>\n",
       "      <td>Raccoon</td>\n",
       "      <td>Black/Gray</td>\n",
       "      <td>NaN</td>\n",
       "      <td>Rabies Risk</td>\n",
       "      <td>2 years</td>\n",
       "      <td>Unknown</td>\n",
       "    </tr>\n",
       "    <tr>\n",
       "      <th>268</th>\n",
       "      <td>A851390</td>\n",
       "      <td>2022-02-14 08:10:00</td>\n",
       "      <td>2022-02-14T08:10:00.000</td>\n",
       "      <td>2020-02-11T00:00:00.000</td>\n",
       "      <td>Euthanasia</td>\n",
       "      <td>Other</td>\n",
       "      <td>Unknown</td>\n",
       "      <td>2 years</td>\n",
       "      <td>Raccoon</td>\n",
       "      <td>Black/Gray</td>\n",
       "      <td>NaN</td>\n",
       "      <td>Rabies Risk</td>\n",
       "      <td>2 years</td>\n",
       "      <td>Unknown</td>\n",
       "    </tr>\n",
       "    <tr>\n",
       "      <th>272</th>\n",
       "      <td>A851263</td>\n",
       "      <td>2022-02-13 11:38:00</td>\n",
       "      <td>2022-02-13T11:38:00.000</td>\n",
       "      <td>2020-02-09T00:00:00.000</td>\n",
       "      <td>Euthanasia</td>\n",
       "      <td>Other</td>\n",
       "      <td>Unknown</td>\n",
       "      <td>2 years</td>\n",
       "      <td>Raccoon</td>\n",
       "      <td>Black/Gray</td>\n",
       "      <td>NaN</td>\n",
       "      <td>Rabies Risk</td>\n",
       "      <td>2 years</td>\n",
       "      <td>Unknown</td>\n",
       "    </tr>\n",
       "    <tr>\n",
       "      <th>273</th>\n",
       "      <td>A851392</td>\n",
       "      <td>2022-02-13 08:09:00</td>\n",
       "      <td>2022-02-13T08:09:00.000</td>\n",
       "      <td>2020-02-11T00:00:00.000</td>\n",
       "      <td>Euthanasia</td>\n",
       "      <td>Other</td>\n",
       "      <td>Unknown</td>\n",
       "      <td>2 years</td>\n",
       "      <td>Raccoon</td>\n",
       "      <td>Black/Gray</td>\n",
       "      <td>NaN</td>\n",
       "      <td>Rabies Risk</td>\n",
       "      <td>2 years</td>\n",
       "      <td>Unknown</td>\n",
       "    </tr>\n",
       "    <tr>\n",
       "      <th>274</th>\n",
       "      <td>A851415</td>\n",
       "      <td>2022-02-13 08:06:00</td>\n",
       "      <td>2022-02-13T08:06:00.000</td>\n",
       "      <td>2020-02-11T00:00:00.000</td>\n",
       "      <td>Euthanasia</td>\n",
       "      <td>Other</td>\n",
       "      <td>Unknown</td>\n",
       "      <td>2 years</td>\n",
       "      <td>Raccoon</td>\n",
       "      <td>Brown/Black</td>\n",
       "      <td>A851415</td>\n",
       "      <td>Rabies Risk</td>\n",
       "      <td>2 years</td>\n",
       "      <td>Unknown</td>\n",
       "    </tr>\n",
       "    <tr>\n",
       "      <th>276</th>\n",
       "      <td>A851351</td>\n",
       "      <td>2022-02-12 18:28:00</td>\n",
       "      <td>2022-02-12T18:28:00.000</td>\n",
       "      <td>2019-02-10T00:00:00.000</td>\n",
       "      <td>Adoption</td>\n",
       "      <td>Other</td>\n",
       "      <td>Intact Female</td>\n",
       "      <td>3 years</td>\n",
       "      <td>Ferret</td>\n",
       "      <td>White</td>\n",
       "      <td>Kima</td>\n",
       "      <td>NaN</td>\n",
       "      <td>3 years</td>\n",
       "      <td>Female</td>\n",
       "    </tr>\n",
       "    <tr>\n",
       "      <th>282</th>\n",
       "      <td>A851336</td>\n",
       "      <td>2022-02-12 17:25:00</td>\n",
       "      <td>2022-02-12T17:25:00.000</td>\n",
       "      <td>2021-09-10T00:00:00.000</td>\n",
       "      <td>Adoption</td>\n",
       "      <td>Other</td>\n",
       "      <td>Intact Female</td>\n",
       "      <td>5 months</td>\n",
       "      <td>Rabbit Sh</td>\n",
       "      <td>White/Black</td>\n",
       "      <td>Yumi</td>\n",
       "      <td>NaN</td>\n",
       "      <td>5 months</td>\n",
       "      <td>Female</td>\n",
       "    </tr>\n",
       "    <tr>\n",
       "      <th>291</th>\n",
       "      <td>A851424</td>\n",
       "      <td>2022-02-12 15:37:00</td>\n",
       "      <td>2022-02-12T15:37:00.000</td>\n",
       "      <td>2020-02-11T00:00:00.000</td>\n",
       "      <td>Euthanasia</td>\n",
       "      <td>Other</td>\n",
       "      <td>Unknown</td>\n",
       "      <td>2 years</td>\n",
       "      <td>Bat</td>\n",
       "      <td>Brown</td>\n",
       "      <td>NaN</td>\n",
       "      <td>Rabies Risk</td>\n",
       "      <td>2 years</td>\n",
       "      <td>Unknown</td>\n",
       "    </tr>\n",
       "    <tr>\n",
       "      <th>336</th>\n",
       "      <td>A851105</td>\n",
       "      <td>2022-02-11 16:29:00</td>\n",
       "      <td>2022-02-11T16:29:00.000</td>\n",
       "      <td>2021-02-06T00:00:00.000</td>\n",
       "      <td>Euthanasia</td>\n",
       "      <td>Other</td>\n",
       "      <td>Unknown</td>\n",
       "      <td>1 year</td>\n",
       "      <td>Raccoon</td>\n",
       "      <td>Black/Gray</td>\n",
       "      <td>NaN</td>\n",
       "      <td>Rabies Risk</td>\n",
       "      <td>1 years</td>\n",
       "      <td>Unknown</td>\n",
       "    </tr>\n",
       "    <tr>\n",
       "      <th>354</th>\n",
       "      <td>A849886</td>\n",
       "      <td>2022-02-11 11:27:00</td>\n",
       "      <td>2022-02-11T11:27:00.000</td>\n",
       "      <td>2018-01-14T00:00:00.000</td>\n",
       "      <td>Euthanasia</td>\n",
       "      <td>Other</td>\n",
       "      <td>Intact Male</td>\n",
       "      <td>4 years</td>\n",
       "      <td>Guinea Pig</td>\n",
       "      <td>White/Brown</td>\n",
       "      <td>Panchito</td>\n",
       "      <td>At Vet</td>\n",
       "      <td>4 years</td>\n",
       "      <td>Male</td>\n",
       "    </tr>\n",
       "    <tr>\n",
       "      <th>357</th>\n",
       "      <td>A851379</td>\n",
       "      <td>2022-02-11 09:43:00</td>\n",
       "      <td>2022-02-11T09:43:00.000</td>\n",
       "      <td>2022-02-11T00:00:00.000</td>\n",
       "      <td>Transfer</td>\n",
       "      <td>Other</td>\n",
       "      <td>Unknown</td>\n",
       "      <td>0 years</td>\n",
       "      <td>Rabbit Sh</td>\n",
       "      <td>White</td>\n",
       "      <td>NaN</td>\n",
       "      <td>Partner</td>\n",
       "      <td>0 years</td>\n",
       "      <td>Unknown</td>\n",
       "    </tr>\n",
       "    <tr>\n",
       "      <th>358</th>\n",
       "      <td>A851380</td>\n",
       "      <td>2022-02-11 09:43:00</td>\n",
       "      <td>2022-02-11T09:43:00.000</td>\n",
       "      <td>2022-02-11T00:00:00.000</td>\n",
       "      <td>Transfer</td>\n",
       "      <td>Other</td>\n",
       "      <td>Unknown</td>\n",
       "      <td>0 years</td>\n",
       "      <td>Rabbit Sh</td>\n",
       "      <td>White</td>\n",
       "      <td>NaN</td>\n",
       "      <td>Partner</td>\n",
       "      <td>0 years</td>\n",
       "      <td>Unknown</td>\n",
       "    </tr>\n",
       "    <tr>\n",
       "      <th>359</th>\n",
       "      <td>A851376</td>\n",
       "      <td>2022-02-11 09:42:00</td>\n",
       "      <td>2022-02-11T09:42:00.000</td>\n",
       "      <td>2022-02-11T00:00:00.000</td>\n",
       "      <td>Transfer</td>\n",
       "      <td>Other</td>\n",
       "      <td>Unknown</td>\n",
       "      <td>0 years</td>\n",
       "      <td>Rabbit Sh</td>\n",
       "      <td>White</td>\n",
       "      <td>NaN</td>\n",
       "      <td>Partner</td>\n",
       "      <td>0 years</td>\n",
       "      <td>Unknown</td>\n",
       "    </tr>\n",
       "    <tr>\n",
       "      <th>360</th>\n",
       "      <td>A851378</td>\n",
       "      <td>2022-02-11 09:42:00</td>\n",
       "      <td>2022-02-11T09:42:00.000</td>\n",
       "      <td>2022-02-11T00:00:00.000</td>\n",
       "      <td>Transfer</td>\n",
       "      <td>Other</td>\n",
       "      <td>Unknown</td>\n",
       "      <td>0 years</td>\n",
       "      <td>Rabbit Sh</td>\n",
       "      <td>White</td>\n",
       "      <td>NaN</td>\n",
       "      <td>Partner</td>\n",
       "      <td>0 years</td>\n",
       "      <td>Unknown</td>\n",
       "    </tr>\n",
       "    <tr>\n",
       "      <th>361</th>\n",
       "      <td>A851377</td>\n",
       "      <td>2022-02-11 09:42:00</td>\n",
       "      <td>2022-02-11T09:42:00.000</td>\n",
       "      <td>2022-02-11T00:00:00.000</td>\n",
       "      <td>Transfer</td>\n",
       "      <td>Other</td>\n",
       "      <td>Unknown</td>\n",
       "      <td>0 years</td>\n",
       "      <td>Rabbit Sh</td>\n",
       "      <td>White</td>\n",
       "      <td>NaN</td>\n",
       "      <td>Partner</td>\n",
       "      <td>0 years</td>\n",
       "      <td>Unknown</td>\n",
       "    </tr>\n",
       "    <tr>\n",
       "      <th>425</th>\n",
       "      <td>A851179</td>\n",
       "      <td>2022-02-10 13:11:00</td>\n",
       "      <td>2022-02-10T13:11:00.000</td>\n",
       "      <td>2021-02-08T00:00:00.000</td>\n",
       "      <td>Transfer</td>\n",
       "      <td>Other</td>\n",
       "      <td>Intact Female</td>\n",
       "      <td>1 year</td>\n",
       "      <td>Rabbit Sh</td>\n",
       "      <td>White</td>\n",
       "      <td>Hops</td>\n",
       "      <td>Partner</td>\n",
       "      <td>1 years</td>\n",
       "      <td>Female</td>\n",
       "    </tr>\n",
       "    <tr>\n",
       "      <th>426</th>\n",
       "      <td>A851181</td>\n",
       "      <td>2022-02-10 13:10:00</td>\n",
       "      <td>2022-02-10T13:10:00.000</td>\n",
       "      <td>2021-02-08T00:00:00.000</td>\n",
       "      <td>Transfer</td>\n",
       "      <td>Other</td>\n",
       "      <td>Intact Male</td>\n",
       "      <td>1 year</td>\n",
       "      <td>Rabbit Sh</td>\n",
       "      <td>White/Brown</td>\n",
       "      <td>Mighty</td>\n",
       "      <td>Partner</td>\n",
       "      <td>1 years</td>\n",
       "      <td>Male</td>\n",
       "    </tr>\n",
       "    <tr>\n",
       "      <th>430</th>\n",
       "      <td>A851293</td>\n",
       "      <td>2022-02-10 10:34:00</td>\n",
       "      <td>2022-02-10T10:34:00.000</td>\n",
       "      <td>2020-02-09T00:00:00.000</td>\n",
       "      <td>Euthanasia</td>\n",
       "      <td>Other</td>\n",
       "      <td>Unknown</td>\n",
       "      <td>2 years</td>\n",
       "      <td>Bat</td>\n",
       "      <td>Brown</td>\n",
       "      <td>NaN</td>\n",
       "      <td>Rabies Risk</td>\n",
       "      <td>2 years</td>\n",
       "      <td>Unknown</td>\n",
       "    </tr>\n",
       "    <tr>\n",
       "      <th>463</th>\n",
       "      <td>A851056</td>\n",
       "      <td>2022-02-09 13:38:00</td>\n",
       "      <td>2022-02-09T13:38:00.000</td>\n",
       "      <td>2020-02-05T00:00:00.000</td>\n",
       "      <td>Euthanasia</td>\n",
       "      <td>Other</td>\n",
       "      <td>Unknown</td>\n",
       "      <td>2 years</td>\n",
       "      <td>Raccoon</td>\n",
       "      <td>Gray/Black</td>\n",
       "      <td>NaN</td>\n",
       "      <td>Suffering</td>\n",
       "      <td>2 years</td>\n",
       "      <td>Unknown</td>\n",
       "    </tr>\n",
       "    <tr>\n",
       "      <th>464</th>\n",
       "      <td>A851073</td>\n",
       "      <td>2022-02-09 13:38:00</td>\n",
       "      <td>2022-02-09T13:38:00.000</td>\n",
       "      <td>2020-02-05T00:00:00.000</td>\n",
       "      <td>Euthanasia</td>\n",
       "      <td>Other</td>\n",
       "      <td>Unknown</td>\n",
       "      <td>2 years</td>\n",
       "      <td>Fox</td>\n",
       "      <td>Red/Black</td>\n",
       "      <td>A851073</td>\n",
       "      <td>Rabies Risk</td>\n",
       "      <td>2 years</td>\n",
       "      <td>Unknown</td>\n",
       "    </tr>\n",
       "    <tr>\n",
       "      <th>467</th>\n",
       "      <td>A851215</td>\n",
       "      <td>2022-02-09 10:01:00</td>\n",
       "      <td>2022-02-09T10:01:00.000</td>\n",
       "      <td>2020-02-08T00:00:00.000</td>\n",
       "      <td>Euthanasia</td>\n",
       "      <td>Other</td>\n",
       "      <td>Unknown</td>\n",
       "      <td>2 years</td>\n",
       "      <td>Raccoon</td>\n",
       "      <td>Black/Gray</td>\n",
       "      <td>NaN</td>\n",
       "      <td>Rabies Risk</td>\n",
       "      <td>2 years</td>\n",
       "      <td>Unknown</td>\n",
       "    </tr>\n",
       "    <tr>\n",
       "      <th>468</th>\n",
       "      <td>A849839</td>\n",
       "      <td>2022-02-09 10:00:00</td>\n",
       "      <td>2022-02-09T10:00:00.000</td>\n",
       "      <td>2020-01-14T00:00:00.000</td>\n",
       "      <td>Euthanasia</td>\n",
       "      <td>Other</td>\n",
       "      <td>Unknown</td>\n",
       "      <td>2 years</td>\n",
       "      <td>Raccoon</td>\n",
       "      <td>Black/Gray</td>\n",
       "      <td>NaN</td>\n",
       "      <td>Rabies Risk</td>\n",
       "      <td>2 years</td>\n",
       "      <td>Unknown</td>\n",
       "    </tr>\n",
       "    <tr>\n",
       "      <th>470</th>\n",
       "      <td>A851207</td>\n",
       "      <td>2022-02-08 18:33:00</td>\n",
       "      <td>2022-02-08T18:33:00.000</td>\n",
       "      <td>2020-02-08T00:00:00.000</td>\n",
       "      <td>Euthanasia</td>\n",
       "      <td>Other</td>\n",
       "      <td>Unknown</td>\n",
       "      <td>2 years</td>\n",
       "      <td>Bat</td>\n",
       "      <td>Brown</td>\n",
       "      <td>NaN</td>\n",
       "      <td>NaN</td>\n",
       "      <td>2 years</td>\n",
       "      <td>Unknown</td>\n",
       "    </tr>\n",
       "    <tr>\n",
       "      <th>494</th>\n",
       "      <td>A850638</td>\n",
       "      <td>2022-02-08 15:06:00</td>\n",
       "      <td>2022-02-08T15:06:00.000</td>\n",
       "      <td>2020-01-28T00:00:00.000</td>\n",
       "      <td>Adoption</td>\n",
       "      <td>Other</td>\n",
       "      <td>Intact Male</td>\n",
       "      <td>2 years</td>\n",
       "      <td>Rabbit Sh</td>\n",
       "      <td>Tan</td>\n",
       "      <td>*Cheddar</td>\n",
       "      <td>Foster</td>\n",
       "      <td>2 years</td>\n",
       "      <td>Male</td>\n",
       "    </tr>\n",
       "    <tr>\n",
       "      <th>507</th>\n",
       "      <td>A851171</td>\n",
       "      <td>2022-02-08 10:44:00</td>\n",
       "      <td>2022-02-08T10:44:00.000</td>\n",
       "      <td>2020-02-08T00:00:00.000</td>\n",
       "      <td>Euthanasia</td>\n",
       "      <td>Other</td>\n",
       "      <td>Unknown</td>\n",
       "      <td>2 years</td>\n",
       "      <td>Raccoon</td>\n",
       "      <td>Black/Gray</td>\n",
       "      <td>NaN</td>\n",
       "      <td>Medical</td>\n",
       "      <td>2 years</td>\n",
       "      <td>Unknown</td>\n",
       "    </tr>\n",
       "    <tr>\n",
       "      <th>511</th>\n",
       "      <td>A851133</td>\n",
       "      <td>2022-02-08 07:46:00</td>\n",
       "      <td>2022-02-08T07:46:00.000</td>\n",
       "      <td>2020-02-07T00:00:00.000</td>\n",
       "      <td>Euthanasia</td>\n",
       "      <td>Other</td>\n",
       "      <td>Unknown</td>\n",
       "      <td>2 years</td>\n",
       "      <td>Bat</td>\n",
       "      <td>Brown</td>\n",
       "      <td>NaN</td>\n",
       "      <td>Rabies Risk</td>\n",
       "      <td>2 years</td>\n",
       "      <td>Unknown</td>\n",
       "    </tr>\n",
       "    <tr>\n",
       "      <th>531</th>\n",
       "      <td>A850236</td>\n",
       "      <td>2022-02-07 13:42:00</td>\n",
       "      <td>2022-02-07T13:42:00.000</td>\n",
       "      <td>2019-01-20T00:00:00.000</td>\n",
       "      <td>Transfer</td>\n",
       "      <td>Other</td>\n",
       "      <td>Intact Female</td>\n",
       "      <td>3 years</td>\n",
       "      <td>Rabbit Sh</td>\n",
       "      <td>White/Brown</td>\n",
       "      <td>*Marble Nettle</td>\n",
       "      <td>Partner</td>\n",
       "      <td>3 years</td>\n",
       "      <td>Female</td>\n",
       "    </tr>\n",
       "    <tr>\n",
       "      <th>533</th>\n",
       "      <td>A851093</td>\n",
       "      <td>2022-02-07 13:38:00</td>\n",
       "      <td>2022-02-07T13:38:00.000</td>\n",
       "      <td>2020-06-07T00:00:00.000</td>\n",
       "      <td>Return to Owner</td>\n",
       "      <td>Other</td>\n",
       "      <td>Intact Female</td>\n",
       "      <td>1 year</td>\n",
       "      <td>Rabbit Sh</td>\n",
       "      <td>White</td>\n",
       "      <td>Stonie</td>\n",
       "      <td>NaN</td>\n",
       "      <td>1 years</td>\n",
       "      <td>Female</td>\n",
       "    </tr>\n",
       "    <tr>\n",
       "      <th>540</th>\n",
       "      <td>A851108</td>\n",
       "      <td>2022-02-07 09:22:00</td>\n",
       "      <td>2022-02-07T09:22:00.000</td>\n",
       "      <td>2020-02-06T00:00:00.000</td>\n",
       "      <td>Disposal</td>\n",
       "      <td>Other</td>\n",
       "      <td>Unknown</td>\n",
       "      <td>2 years</td>\n",
       "      <td>Bat</td>\n",
       "      <td>Brown</td>\n",
       "      <td>NaN</td>\n",
       "      <td>NaN</td>\n",
       "      <td>2 years</td>\n",
       "      <td>Unknown</td>\n",
       "    </tr>\n",
       "    <tr>\n",
       "      <th>595</th>\n",
       "      <td>A850758</td>\n",
       "      <td>2022-02-02 16:19:00</td>\n",
       "      <td>2022-02-02T16:19:00.000</td>\n",
       "      <td>2020-12-31T00:00:00.000</td>\n",
       "      <td>Transfer</td>\n",
       "      <td>Other</td>\n",
       "      <td>Intact Male</td>\n",
       "      <td>1 year</td>\n",
       "      <td>Guinea Pig</td>\n",
       "      <td>Tricolor</td>\n",
       "      <td>Max</td>\n",
       "      <td>Partner</td>\n",
       "      <td>1 years</td>\n",
       "      <td>Male</td>\n",
       "    </tr>\n",
       "    <tr>\n",
       "      <th>596</th>\n",
       "      <td>A850756</td>\n",
       "      <td>2022-02-02 16:19:00</td>\n",
       "      <td>2022-02-02T16:19:00.000</td>\n",
       "      <td>2020-12-31T00:00:00.000</td>\n",
       "      <td>Transfer</td>\n",
       "      <td>Other</td>\n",
       "      <td>Intact Male</td>\n",
       "      <td>1 year</td>\n",
       "      <td>Guinea Pig</td>\n",
       "      <td>Brown/White</td>\n",
       "      <td>Rocky</td>\n",
       "      <td>Partner</td>\n",
       "      <td>1 years</td>\n",
       "      <td>Male</td>\n",
       "    </tr>\n",
       "    <tr>\n",
       "      <th>597</th>\n",
       "      <td>A850754</td>\n",
       "      <td>2022-02-02 16:18:00</td>\n",
       "      <td>2022-02-02T16:18:00.000</td>\n",
       "      <td>2020-01-31T00:00:00.000</td>\n",
       "      <td>Transfer</td>\n",
       "      <td>Other</td>\n",
       "      <td>Neutered Male</td>\n",
       "      <td>2 years</td>\n",
       "      <td>Guinea Pig</td>\n",
       "      <td>Brown/White</td>\n",
       "      <td>Felix</td>\n",
       "      <td>Partner</td>\n",
       "      <td>2 years</td>\n",
       "      <td>Male</td>\n",
       "    </tr>\n",
       "    <tr>\n",
       "      <th>598</th>\n",
       "      <td>A850755</td>\n",
       "      <td>2022-02-02 16:18:00</td>\n",
       "      <td>2022-02-02T16:18:00.000</td>\n",
       "      <td>2020-01-31T00:00:00.000</td>\n",
       "      <td>Transfer</td>\n",
       "      <td>Other</td>\n",
       "      <td>Intact Female</td>\n",
       "      <td>2 years</td>\n",
       "      <td>Guinea Pig</td>\n",
       "      <td>Tricolor</td>\n",
       "      <td>Tokyo</td>\n",
       "      <td>Partner</td>\n",
       "      <td>2 years</td>\n",
       "      <td>Female</td>\n",
       "    </tr>\n",
       "    <tr>\n",
       "      <th>672</th>\n",
       "      <td>A850716</td>\n",
       "      <td>2022-02-01 07:44:00</td>\n",
       "      <td>2022-02-01T07:44:00.000</td>\n",
       "      <td>2020-01-30T00:00:00.000</td>\n",
       "      <td>Euthanasia</td>\n",
       "      <td>Other</td>\n",
       "      <td>Unknown</td>\n",
       "      <td>2 years</td>\n",
       "      <td>Raccoon</td>\n",
       "      <td>Tan/Gray</td>\n",
       "      <td>NaN</td>\n",
       "      <td>Rabies Risk</td>\n",
       "      <td>2 years</td>\n",
       "      <td>Unknown</td>\n",
       "    </tr>\n",
       "    <tr>\n",
       "      <th>714</th>\n",
       "      <td>A850679</td>\n",
       "      <td>2022-01-31 07:41:00</td>\n",
       "      <td>2022-01-31T07:41:00.000</td>\n",
       "      <td>2021-01-29T00:00:00.000</td>\n",
       "      <td>Euthanasia</td>\n",
       "      <td>Other</td>\n",
       "      <td>Unknown</td>\n",
       "      <td>1 year</td>\n",
       "      <td>Raccoon</td>\n",
       "      <td>Brown/Black</td>\n",
       "      <td>NaN</td>\n",
       "      <td>Rabies Risk</td>\n",
       "      <td>1 years</td>\n",
       "      <td>Unknown</td>\n",
       "    </tr>\n",
       "    <tr>\n",
       "      <th>753</th>\n",
       "      <td>A850636</td>\n",
       "      <td>2022-01-29 09:50:00</td>\n",
       "      <td>2022-01-29T09:50:00.000</td>\n",
       "      <td>2020-01-28T00:00:00.000</td>\n",
       "      <td>Euthanasia</td>\n",
       "      <td>Other</td>\n",
       "      <td>Unknown</td>\n",
       "      <td>2 years</td>\n",
       "      <td>Raccoon</td>\n",
       "      <td>Brown/Black</td>\n",
       "      <td>NaN</td>\n",
       "      <td>Suffering</td>\n",
       "      <td>2 years</td>\n",
       "      <td>Unknown</td>\n",
       "    </tr>\n",
       "    <tr>\n",
       "      <th>769</th>\n",
       "      <td>A850592</td>\n",
       "      <td>2022-01-28 08:04:00</td>\n",
       "      <td>2022-01-28T08:04:00.000</td>\n",
       "      <td>2020-01-27T00:00:00.000</td>\n",
       "      <td>Euthanasia</td>\n",
       "      <td>Other</td>\n",
       "      <td>Unknown</td>\n",
       "      <td>2 years</td>\n",
       "      <td>Raccoon</td>\n",
       "      <td>Brown/Black</td>\n",
       "      <td>A850592</td>\n",
       "      <td>Rabies Risk</td>\n",
       "      <td>2 years</td>\n",
       "      <td>Unknown</td>\n",
       "    </tr>\n",
       "    <tr>\n",
       "      <th>835</th>\n",
       "      <td>A850099</td>\n",
       "      <td>2022-01-25 16:19:00</td>\n",
       "      <td>2022-01-25T16:19:00.000</td>\n",
       "      <td>2020-01-18T00:00:00.000</td>\n",
       "      <td>Euthanasia</td>\n",
       "      <td>Other</td>\n",
       "      <td>Unknown</td>\n",
       "      <td>2 years</td>\n",
       "      <td>Raccoon</td>\n",
       "      <td>Gray/Black</td>\n",
       "      <td>NaN</td>\n",
       "      <td>Rabies Risk</td>\n",
       "      <td>2 years</td>\n",
       "      <td>Unknown</td>\n",
       "    </tr>\n",
       "    <tr>\n",
       "      <th>903</th>\n",
       "      <td>A850411</td>\n",
       "      <td>2022-01-24 12:18:00</td>\n",
       "      <td>2022-01-24T12:18:00.000</td>\n",
       "      <td>2021-01-24T00:00:00.000</td>\n",
       "      <td>Euthanasia</td>\n",
       "      <td>Other</td>\n",
       "      <td>Unknown</td>\n",
       "      <td>NULL</td>\n",
       "      <td>Raccoon</td>\n",
       "      <td>Black/Gray</td>\n",
       "      <td>NaN</td>\n",
       "      <td>Rabies Risk</td>\n",
       "      <td>NULL</td>\n",
       "      <td>Unknown</td>\n",
       "    </tr>\n",
       "    <tr>\n",
       "      <th>908</th>\n",
       "      <td>A850348</td>\n",
       "      <td>2022-01-23 11:31:00</td>\n",
       "      <td>2022-01-23T11:31:00.000</td>\n",
       "      <td>2020-01-22T00:00:00.000</td>\n",
       "      <td>Euthanasia</td>\n",
       "      <td>Other</td>\n",
       "      <td>Unknown</td>\n",
       "      <td>2 years</td>\n",
       "      <td>Raccoon</td>\n",
       "      <td>Gray/Black</td>\n",
       "      <td>NaN</td>\n",
       "      <td>Rabies Risk</td>\n",
       "      <td>2 years</td>\n",
       "      <td>Unknown</td>\n",
       "    </tr>\n",
       "    <tr>\n",
       "      <th>926</th>\n",
       "      <td>A850358</td>\n",
       "      <td>2022-01-22 15:20:00</td>\n",
       "      <td>2022-01-22T15:20:00.000</td>\n",
       "      <td>2020-01-22T00:00:00.000</td>\n",
       "      <td>Euthanasia</td>\n",
       "      <td>Other</td>\n",
       "      <td>Unknown</td>\n",
       "      <td>2 years</td>\n",
       "      <td>Raccoon</td>\n",
       "      <td>Brown/Black</td>\n",
       "      <td>NaN</td>\n",
       "      <td>Rabies Risk</td>\n",
       "      <td>2 years</td>\n",
       "      <td>Unknown</td>\n",
       "    </tr>\n",
       "    <tr>\n",
       "      <th>930</th>\n",
       "      <td>A848770</td>\n",
       "      <td>2022-01-22 14:48:00</td>\n",
       "      <td>2022-01-22T14:48:00.000</td>\n",
       "      <td>2020-12-28T00:00:00.000</td>\n",
       "      <td>Adoption</td>\n",
       "      <td>Other</td>\n",
       "      <td>Neutered Male</td>\n",
       "      <td>1 year</td>\n",
       "      <td>Lionhead Mix</td>\n",
       "      <td>White/Brown</td>\n",
       "      <td>*Floof</td>\n",
       "      <td>Foster</td>\n",
       "      <td>1 years</td>\n",
       "      <td>Male</td>\n",
       "    </tr>\n",
       "    <tr>\n",
       "      <th>937</th>\n",
       "      <td>A850238</td>\n",
       "      <td>2022-01-22 12:31:00</td>\n",
       "      <td>2022-01-22T12:31:00.000</td>\n",
       "      <td>2020-01-20T00:00:00.000</td>\n",
       "      <td>Adoption</td>\n",
       "      <td>Other</td>\n",
       "      <td>Intact Female</td>\n",
       "      <td>2 years</td>\n",
       "      <td>Guinea Pig</td>\n",
       "      <td>Tricolor</td>\n",
       "      <td>*Talia</td>\n",
       "      <td>NaN</td>\n",
       "      <td>2 years</td>\n",
       "      <td>Female</td>\n",
       "    </tr>\n",
       "  </tbody>\n",
       "</table>\n",
       "</div>"
      ],
      "text/plain": [
       "    animal_id            datetime                monthyear  \\\n",
       "25    A851825 2022-02-23 11:21:00  2022-02-23T11:21:00.000   \n",
       "27    A852014 2022-02-23 10:38:00  2022-02-23T10:38:00.000   \n",
       "79    A851928 2022-02-21 17:20:00  2022-02-21T17:20:00.000   \n",
       "88    A851861 2022-02-20 12:32:00  2022-02-20T12:32:00.000   \n",
       "89    A851646 2022-02-20 10:30:00  2022-02-20T10:30:00.000   \n",
       "113   A851617 2022-02-19 11:20:00  2022-02-19T11:20:00.000   \n",
       "115   A851757 2022-02-19 07:39:00  2022-02-19T07:39:00.000   \n",
       "148   A851744 2022-02-18 09:35:00  2022-02-18T09:35:00.000   \n",
       "187   A851644 2022-02-16 10:29:00  2022-02-16T10:29:00.000   \n",
       "268   A851390 2022-02-14 08:10:00  2022-02-14T08:10:00.000   \n",
       "272   A851263 2022-02-13 11:38:00  2022-02-13T11:38:00.000   \n",
       "273   A851392 2022-02-13 08:09:00  2022-02-13T08:09:00.000   \n",
       "274   A851415 2022-02-13 08:06:00  2022-02-13T08:06:00.000   \n",
       "276   A851351 2022-02-12 18:28:00  2022-02-12T18:28:00.000   \n",
       "282   A851336 2022-02-12 17:25:00  2022-02-12T17:25:00.000   \n",
       "291   A851424 2022-02-12 15:37:00  2022-02-12T15:37:00.000   \n",
       "336   A851105 2022-02-11 16:29:00  2022-02-11T16:29:00.000   \n",
       "354   A849886 2022-02-11 11:27:00  2022-02-11T11:27:00.000   \n",
       "357   A851379 2022-02-11 09:43:00  2022-02-11T09:43:00.000   \n",
       "358   A851380 2022-02-11 09:43:00  2022-02-11T09:43:00.000   \n",
       "359   A851376 2022-02-11 09:42:00  2022-02-11T09:42:00.000   \n",
       "360   A851378 2022-02-11 09:42:00  2022-02-11T09:42:00.000   \n",
       "361   A851377 2022-02-11 09:42:00  2022-02-11T09:42:00.000   \n",
       "425   A851179 2022-02-10 13:11:00  2022-02-10T13:11:00.000   \n",
       "426   A851181 2022-02-10 13:10:00  2022-02-10T13:10:00.000   \n",
       "430   A851293 2022-02-10 10:34:00  2022-02-10T10:34:00.000   \n",
       "463   A851056 2022-02-09 13:38:00  2022-02-09T13:38:00.000   \n",
       "464   A851073 2022-02-09 13:38:00  2022-02-09T13:38:00.000   \n",
       "467   A851215 2022-02-09 10:01:00  2022-02-09T10:01:00.000   \n",
       "468   A849839 2022-02-09 10:00:00  2022-02-09T10:00:00.000   \n",
       "470   A851207 2022-02-08 18:33:00  2022-02-08T18:33:00.000   \n",
       "494   A850638 2022-02-08 15:06:00  2022-02-08T15:06:00.000   \n",
       "507   A851171 2022-02-08 10:44:00  2022-02-08T10:44:00.000   \n",
       "511   A851133 2022-02-08 07:46:00  2022-02-08T07:46:00.000   \n",
       "531   A850236 2022-02-07 13:42:00  2022-02-07T13:42:00.000   \n",
       "533   A851093 2022-02-07 13:38:00  2022-02-07T13:38:00.000   \n",
       "540   A851108 2022-02-07 09:22:00  2022-02-07T09:22:00.000   \n",
       "595   A850758 2022-02-02 16:19:00  2022-02-02T16:19:00.000   \n",
       "596   A850756 2022-02-02 16:19:00  2022-02-02T16:19:00.000   \n",
       "597   A850754 2022-02-02 16:18:00  2022-02-02T16:18:00.000   \n",
       "598   A850755 2022-02-02 16:18:00  2022-02-02T16:18:00.000   \n",
       "672   A850716 2022-02-01 07:44:00  2022-02-01T07:44:00.000   \n",
       "714   A850679 2022-01-31 07:41:00  2022-01-31T07:41:00.000   \n",
       "753   A850636 2022-01-29 09:50:00  2022-01-29T09:50:00.000   \n",
       "769   A850592 2022-01-28 08:04:00  2022-01-28T08:04:00.000   \n",
       "835   A850099 2022-01-25 16:19:00  2022-01-25T16:19:00.000   \n",
       "903   A850411 2022-01-24 12:18:00  2022-01-24T12:18:00.000   \n",
       "908   A850348 2022-01-23 11:31:00  2022-01-23T11:31:00.000   \n",
       "926   A850358 2022-01-22 15:20:00  2022-01-22T15:20:00.000   \n",
       "930   A848770 2022-01-22 14:48:00  2022-01-22T14:48:00.000   \n",
       "937   A850238 2022-01-22 12:31:00  2022-01-22T12:31:00.000   \n",
       "\n",
       "               date_of_birth     outcome_type animal_type sex_upon_outcome  \\\n",
       "25   2020-02-19T00:00:00.000         Disposal       Other          Unknown   \n",
       "27   2020-02-23T00:00:00.000       Euthanasia       Other          Unknown   \n",
       "79   2020-02-21T00:00:00.000       Euthanasia       Other          Unknown   \n",
       "88   2020-02-20T00:00:00.000       Euthanasia       Other          Unknown   \n",
       "89   2020-02-16T00:00:00.000       Euthanasia       Other          Unknown   \n",
       "113  2020-02-15T00:00:00.000       Euthanasia       Other          Unknown   \n",
       "115  2020-02-18T00:00:00.000       Euthanasia       Other          Unknown   \n",
       "148  2020-02-17T00:00:00.000       Euthanasia       Other          Unknown   \n",
       "187  2020-02-16T00:00:00.000       Euthanasia       Other          Unknown   \n",
       "268  2020-02-11T00:00:00.000       Euthanasia       Other          Unknown   \n",
       "272  2020-02-09T00:00:00.000       Euthanasia       Other          Unknown   \n",
       "273  2020-02-11T00:00:00.000       Euthanasia       Other          Unknown   \n",
       "274  2020-02-11T00:00:00.000       Euthanasia       Other          Unknown   \n",
       "276  2019-02-10T00:00:00.000         Adoption       Other    Intact Female   \n",
       "282  2021-09-10T00:00:00.000         Adoption       Other    Intact Female   \n",
       "291  2020-02-11T00:00:00.000       Euthanasia       Other          Unknown   \n",
       "336  2021-02-06T00:00:00.000       Euthanasia       Other          Unknown   \n",
       "354  2018-01-14T00:00:00.000       Euthanasia       Other      Intact Male   \n",
       "357  2022-02-11T00:00:00.000         Transfer       Other          Unknown   \n",
       "358  2022-02-11T00:00:00.000         Transfer       Other          Unknown   \n",
       "359  2022-02-11T00:00:00.000         Transfer       Other          Unknown   \n",
       "360  2022-02-11T00:00:00.000         Transfer       Other          Unknown   \n",
       "361  2022-02-11T00:00:00.000         Transfer       Other          Unknown   \n",
       "425  2021-02-08T00:00:00.000         Transfer       Other    Intact Female   \n",
       "426  2021-02-08T00:00:00.000         Transfer       Other      Intact Male   \n",
       "430  2020-02-09T00:00:00.000       Euthanasia       Other          Unknown   \n",
       "463  2020-02-05T00:00:00.000       Euthanasia       Other          Unknown   \n",
       "464  2020-02-05T00:00:00.000       Euthanasia       Other          Unknown   \n",
       "467  2020-02-08T00:00:00.000       Euthanasia       Other          Unknown   \n",
       "468  2020-01-14T00:00:00.000       Euthanasia       Other          Unknown   \n",
       "470  2020-02-08T00:00:00.000       Euthanasia       Other          Unknown   \n",
       "494  2020-01-28T00:00:00.000         Adoption       Other      Intact Male   \n",
       "507  2020-02-08T00:00:00.000       Euthanasia       Other          Unknown   \n",
       "511  2020-02-07T00:00:00.000       Euthanasia       Other          Unknown   \n",
       "531  2019-01-20T00:00:00.000         Transfer       Other    Intact Female   \n",
       "533  2020-06-07T00:00:00.000  Return to Owner       Other    Intact Female   \n",
       "540  2020-02-06T00:00:00.000         Disposal       Other          Unknown   \n",
       "595  2020-12-31T00:00:00.000         Transfer       Other      Intact Male   \n",
       "596  2020-12-31T00:00:00.000         Transfer       Other      Intact Male   \n",
       "597  2020-01-31T00:00:00.000         Transfer       Other    Neutered Male   \n",
       "598  2020-01-31T00:00:00.000         Transfer       Other    Intact Female   \n",
       "672  2020-01-30T00:00:00.000       Euthanasia       Other          Unknown   \n",
       "714  2021-01-29T00:00:00.000       Euthanasia       Other          Unknown   \n",
       "753  2020-01-28T00:00:00.000       Euthanasia       Other          Unknown   \n",
       "769  2020-01-27T00:00:00.000       Euthanasia       Other          Unknown   \n",
       "835  2020-01-18T00:00:00.000       Euthanasia       Other          Unknown   \n",
       "903  2021-01-24T00:00:00.000       Euthanasia       Other          Unknown   \n",
       "908  2020-01-22T00:00:00.000       Euthanasia       Other          Unknown   \n",
       "926  2020-01-22T00:00:00.000       Euthanasia       Other          Unknown   \n",
       "930  2020-12-28T00:00:00.000         Adoption       Other    Neutered Male   \n",
       "937  2020-01-20T00:00:00.000         Adoption       Other    Intact Female   \n",
       "\n",
       "    age_upon_outcome         breed        color            name  \\\n",
       "25           2 years           Fox    Red/Black         A851825   \n",
       "27           2 years       Raccoon   Gray/Black             NaN   \n",
       "79           2 years       Raccoon        Brown             NaN   \n",
       "88              NULL       Raccoon        Brown             NaN   \n",
       "89           2 years       Raccoon   Gray/Black             NaN   \n",
       "113          2 years           Bat  Brown/Brown             NaN   \n",
       "115          2 years       Raccoon   Black/Gray             NaN   \n",
       "148          2 years           Bat        Brown             NaN   \n",
       "187          2 years       Raccoon   Black/Gray             NaN   \n",
       "268          2 years       Raccoon   Black/Gray             NaN   \n",
       "272          2 years       Raccoon   Black/Gray             NaN   \n",
       "273          2 years       Raccoon   Black/Gray             NaN   \n",
       "274          2 years       Raccoon  Brown/Black         A851415   \n",
       "276          3 years        Ferret        White            Kima   \n",
       "282         5 months     Rabbit Sh  White/Black            Yumi   \n",
       "291          2 years           Bat        Brown             NaN   \n",
       "336           1 year       Raccoon   Black/Gray             NaN   \n",
       "354          4 years    Guinea Pig  White/Brown        Panchito   \n",
       "357          0 years     Rabbit Sh        White             NaN   \n",
       "358          0 years     Rabbit Sh        White             NaN   \n",
       "359          0 years     Rabbit Sh        White             NaN   \n",
       "360          0 years     Rabbit Sh        White             NaN   \n",
       "361          0 years     Rabbit Sh        White             NaN   \n",
       "425           1 year     Rabbit Sh        White            Hops   \n",
       "426           1 year     Rabbit Sh  White/Brown          Mighty   \n",
       "430          2 years           Bat        Brown             NaN   \n",
       "463          2 years       Raccoon   Gray/Black             NaN   \n",
       "464          2 years           Fox    Red/Black         A851073   \n",
       "467          2 years       Raccoon   Black/Gray             NaN   \n",
       "468          2 years       Raccoon   Black/Gray             NaN   \n",
       "470          2 years           Bat        Brown             NaN   \n",
       "494          2 years     Rabbit Sh          Tan        *Cheddar   \n",
       "507          2 years       Raccoon   Black/Gray             NaN   \n",
       "511          2 years           Bat        Brown             NaN   \n",
       "531          3 years     Rabbit Sh  White/Brown  *Marble Nettle   \n",
       "533           1 year     Rabbit Sh        White          Stonie   \n",
       "540          2 years           Bat        Brown             NaN   \n",
       "595           1 year    Guinea Pig     Tricolor             Max   \n",
       "596           1 year    Guinea Pig  Brown/White           Rocky   \n",
       "597          2 years    Guinea Pig  Brown/White           Felix   \n",
       "598          2 years    Guinea Pig     Tricolor           Tokyo   \n",
       "672          2 years       Raccoon     Tan/Gray             NaN   \n",
       "714           1 year       Raccoon  Brown/Black             NaN   \n",
       "753          2 years       Raccoon  Brown/Black             NaN   \n",
       "769          2 years       Raccoon  Brown/Black         A850592   \n",
       "835          2 years       Raccoon   Gray/Black             NaN   \n",
       "903             NULL       Raccoon   Black/Gray             NaN   \n",
       "908          2 years       Raccoon   Gray/Black             NaN   \n",
       "926          2 years       Raccoon  Brown/Black             NaN   \n",
       "930           1 year  Lionhead Mix  White/Brown          *Floof   \n",
       "937          2 years    Guinea Pig     Tricolor          *Talia   \n",
       "\n",
       "    outcome_subtype  new_age1 new_sex1  \n",
       "25              NaN   2 years  Unknown  \n",
       "27        Suffering   2 years  Unknown  \n",
       "79      Rabies Risk   2 years  Unknown  \n",
       "88      Rabies Risk      NULL  Unknown  \n",
       "89      Rabies Risk   2 years  Unknown  \n",
       "113     Rabies Risk   2 years  Unknown  \n",
       "115       Suffering   2 years  Unknown  \n",
       "148     Rabies Risk   2 years  Unknown  \n",
       "187     Rabies Risk   2 years  Unknown  \n",
       "268     Rabies Risk   2 years  Unknown  \n",
       "272     Rabies Risk   2 years  Unknown  \n",
       "273     Rabies Risk   2 years  Unknown  \n",
       "274     Rabies Risk   2 years  Unknown  \n",
       "276             NaN   3 years   Female  \n",
       "282             NaN  5 months   Female  \n",
       "291     Rabies Risk   2 years  Unknown  \n",
       "336     Rabies Risk   1 years  Unknown  \n",
       "354          At Vet   4 years     Male  \n",
       "357         Partner   0 years  Unknown  \n",
       "358         Partner   0 years  Unknown  \n",
       "359         Partner   0 years  Unknown  \n",
       "360         Partner   0 years  Unknown  \n",
       "361         Partner   0 years  Unknown  \n",
       "425         Partner   1 years   Female  \n",
       "426         Partner   1 years     Male  \n",
       "430     Rabies Risk   2 years  Unknown  \n",
       "463       Suffering   2 years  Unknown  \n",
       "464     Rabies Risk   2 years  Unknown  \n",
       "467     Rabies Risk   2 years  Unknown  \n",
       "468     Rabies Risk   2 years  Unknown  \n",
       "470             NaN   2 years  Unknown  \n",
       "494          Foster   2 years     Male  \n",
       "507         Medical   2 years  Unknown  \n",
       "511     Rabies Risk   2 years  Unknown  \n",
       "531         Partner   3 years   Female  \n",
       "533             NaN   1 years   Female  \n",
       "540             NaN   2 years  Unknown  \n",
       "595         Partner   1 years     Male  \n",
       "596         Partner   1 years     Male  \n",
       "597         Partner   2 years     Male  \n",
       "598         Partner   2 years   Female  \n",
       "672     Rabies Risk   2 years  Unknown  \n",
       "714     Rabies Risk   1 years  Unknown  \n",
       "753       Suffering   2 years  Unknown  \n",
       "769     Rabies Risk   2 years  Unknown  \n",
       "835     Rabies Risk   2 years  Unknown  \n",
       "903     Rabies Risk      NULL  Unknown  \n",
       "908     Rabies Risk   2 years  Unknown  \n",
       "926     Rabies Risk   2 years  Unknown  \n",
       "930          Foster   1 years     Male  \n",
       "937             NaN   2 years   Female  "
      ]
     },
     "execution_count": 18,
     "metadata": {},
     "output_type": "execute_result"
    }
   ],
   "source": [
    "animals[animals['animal_type'] == 'Other']"
   ]
  },
  {
   "cell_type": "code",
   "execution_count": 19,
   "metadata": {
    "hidden": true
   },
   "outputs": [
    {
     "data": {
      "text/plain": [
       "Dog      631\n",
       "Cat      313\n",
       "Other     51\n",
       "Bird       5\n",
       "Name: animal_type, dtype: int64"
      ]
     },
     "execution_count": 19,
     "metadata": {},
     "output_type": "execute_result"
    }
   ],
   "source": [
    "animals['animal_type'].value_counts()"
   ]
  },
  {
   "cell_type": "code",
   "execution_count": 20,
   "metadata": {
    "hidden": true,
    "scrolled": true
   },
   "outputs": [
    {
     "data": {
      "text/plain": [
       "Dog     631\n",
       "Cat     313\n",
       "Bird      5\n",
       "Name: animal_type, dtype: int64"
      ]
     },
     "execution_count": 20,
     "metadata": {},
     "output_type": "execute_result"
    }
   ],
   "source": [
    "animals['animal_type'].map(lambda x: np.nan if x == 'Other' else x).value_counts()"
   ]
  },
  {
   "cell_type": "markdown",
   "metadata": {
    "heading_collapsed": true
   },
   "source": [
    "# Handling Missing Data"
   ]
  },
  {
   "cell_type": "markdown",
   "metadata": {
    "hidden": true
   },
   "source": [
    "A lot of the times we'll have missing information in our data set. This can sometimes be troublesome in what we're trying to do."
   ]
  },
  {
   "cell_type": "markdown",
   "metadata": {
    "hidden": true
   },
   "source": [
    "So far, we've been doing some preprocessing/cleaning to answer questions. Now we're going to handle the missing values in our data.\n",
    "\n",
    "There are a few strategies we can choose from and they each have their special use case."
   ]
  },
  {
   "cell_type": "markdown",
   "metadata": {
    "hidden": true
   },
   "source": [
    "> Before making changes, it's convenient to make changes to a copy instead of overwriting data. We'll keep all our changes in `animals_clean` which will be a [copy](https://pandas.pydata.org/docs/reference/api/pandas.DataFrame.copy.html) of the original DataFrame."
   ]
  },
  {
   "cell_type": "code",
   "execution_count": 21,
   "metadata": {
    "hidden": true
   },
   "outputs": [],
   "source": [
    "animals_clean = animals.copy()"
   ]
  },
  {
   "cell_type": "markdown",
   "metadata": {
    "heading_collapsed": true,
    "hidden": true
   },
   "source": [
    "## Fill with a Relevant Value"
   ]
  },
  {
   "cell_type": "markdown",
   "metadata": {
    "hidden": true
   },
   "source": [
    "A lot of times we already have an idea of how we want to specify that a value was missing and replace it with a value that makes more sense than an \"empty\" value."
   ]
  },
  {
   "cell_type": "markdown",
   "metadata": {
    "hidden": true
   },
   "source": [
    "For example, it might make sense to fill the value as \"MISSING\" or \"UNKNOWN\". This way it's clearer when do more analysis."
   ]
  },
  {
   "cell_type": "markdown",
   "metadata": {
    "hidden": true
   },
   "source": [
    "> We can use Pandas' [`fillna()` method](https://pandas.pydata.org/pandas-docs/stable/reference/api/pandas.DataFrame.fillna.html) to replace missing values with something specific"
   ]
  },
  {
   "cell_type": "code",
   "execution_count": 22,
   "metadata": {
    "hidden": true
   },
   "outputs": [
    {
     "data": {
      "text/html": [
       "<div>\n",
       "<style scoped>\n",
       "    .dataframe tbody tr th:only-of-type {\n",
       "        vertical-align: middle;\n",
       "    }\n",
       "\n",
       "    .dataframe tbody tr th {\n",
       "        vertical-align: top;\n",
       "    }\n",
       "\n",
       "    .dataframe thead th {\n",
       "        text-align: right;\n",
       "    }\n",
       "</style>\n",
       "<table border=\"1\" class=\"dataframe\">\n",
       "  <thead>\n",
       "    <tr style=\"text-align: right;\">\n",
       "      <th></th>\n",
       "      <th>animal_id</th>\n",
       "      <th>datetime</th>\n",
       "      <th>monthyear</th>\n",
       "      <th>date_of_birth</th>\n",
       "      <th>outcome_type</th>\n",
       "      <th>animal_type</th>\n",
       "      <th>sex_upon_outcome</th>\n",
       "      <th>age_upon_outcome</th>\n",
       "      <th>breed</th>\n",
       "      <th>color</th>\n",
       "      <th>name</th>\n",
       "      <th>outcome_subtype</th>\n",
       "      <th>new_age1</th>\n",
       "      <th>new_sex1</th>\n",
       "    </tr>\n",
       "  </thead>\n",
       "  <tbody>\n",
       "    <tr>\n",
       "      <th>0</th>\n",
       "      <td>A851721</td>\n",
       "      <td>2022-02-23 18:04:00</td>\n",
       "      <td>2022-02-23T18:04:00.000</td>\n",
       "      <td>2021-11-02T00:00:00.000</td>\n",
       "      <td>Adoption</td>\n",
       "      <td>Cat</td>\n",
       "      <td>Spayed Female</td>\n",
       "      <td>3 months</td>\n",
       "      <td>Domestic Shorthair</td>\n",
       "      <td>Torbie/White</td>\n",
       "      <td>UNKNOWN</td>\n",
       "      <td>NaN</td>\n",
       "      <td>3 months</td>\n",
       "      <td>Female</td>\n",
       "    </tr>\n",
       "    <tr>\n",
       "      <th>1</th>\n",
       "      <td>A851776</td>\n",
       "      <td>2022-02-23 17:54:00</td>\n",
       "      <td>2022-02-23T17:54:00.000</td>\n",
       "      <td>2021-02-18T00:00:00.000</td>\n",
       "      <td>Adoption</td>\n",
       "      <td>Cat</td>\n",
       "      <td>Neutered Male</td>\n",
       "      <td>1 year</td>\n",
       "      <td>Domestic Medium Hair Mix</td>\n",
       "      <td>Black</td>\n",
       "      <td>*Frito</td>\n",
       "      <td>NaN</td>\n",
       "      <td>1 years</td>\n",
       "      <td>Male</td>\n",
       "    </tr>\n",
       "    <tr>\n",
       "      <th>2</th>\n",
       "      <td>A851807</td>\n",
       "      <td>2022-02-23 17:26:00</td>\n",
       "      <td>2022-02-23T17:26:00.000</td>\n",
       "      <td>2021-12-19T00:00:00.000</td>\n",
       "      <td>Return to Owner</td>\n",
       "      <td>Dog</td>\n",
       "      <td>Intact Female</td>\n",
       "      <td>2 months</td>\n",
       "      <td>Pit Bull</td>\n",
       "      <td>Brown Brindle/White</td>\n",
       "      <td>Harley</td>\n",
       "      <td>NaN</td>\n",
       "      <td>2 months</td>\n",
       "      <td>Female</td>\n",
       "    </tr>\n",
       "    <tr>\n",
       "      <th>3</th>\n",
       "      <td>A840070</td>\n",
       "      <td>2022-02-23 17:22:00</td>\n",
       "      <td>2022-02-23T17:22:00.000</td>\n",
       "      <td>2020-02-02T00:00:00.000</td>\n",
       "      <td>Adoption</td>\n",
       "      <td>Dog</td>\n",
       "      <td>Neutered Male</td>\n",
       "      <td>2 years</td>\n",
       "      <td>Siberian Husky</td>\n",
       "      <td>White/Gray</td>\n",
       "      <td>*Guthrie</td>\n",
       "      <td>NaN</td>\n",
       "      <td>2 years</td>\n",
       "      <td>Male</td>\n",
       "    </tr>\n",
       "    <tr>\n",
       "      <th>4</th>\n",
       "      <td>A851532</td>\n",
       "      <td>2022-02-23 17:00:00</td>\n",
       "      <td>2022-02-23T17:00:00.000</td>\n",
       "      <td>2015-02-14T00:00:00.000</td>\n",
       "      <td>Transfer</td>\n",
       "      <td>Dog</td>\n",
       "      <td>Neutered Male</td>\n",
       "      <td>7 years</td>\n",
       "      <td>Bulldog Mix</td>\n",
       "      <td>Blue/White</td>\n",
       "      <td>Yeti</td>\n",
       "      <td>Partner</td>\n",
       "      <td>7 years</td>\n",
       "      <td>Male</td>\n",
       "    </tr>\n",
       "  </tbody>\n",
       "</table>\n",
       "</div>"
      ],
      "text/plain": [
       "  animal_id            datetime                monthyear  \\\n",
       "0   A851721 2022-02-23 18:04:00  2022-02-23T18:04:00.000   \n",
       "1   A851776 2022-02-23 17:54:00  2022-02-23T17:54:00.000   \n",
       "2   A851807 2022-02-23 17:26:00  2022-02-23T17:26:00.000   \n",
       "3   A840070 2022-02-23 17:22:00  2022-02-23T17:22:00.000   \n",
       "4   A851532 2022-02-23 17:00:00  2022-02-23T17:00:00.000   \n",
       "\n",
       "             date_of_birth     outcome_type animal_type sex_upon_outcome  \\\n",
       "0  2021-11-02T00:00:00.000         Adoption         Cat    Spayed Female   \n",
       "1  2021-02-18T00:00:00.000         Adoption         Cat    Neutered Male   \n",
       "2  2021-12-19T00:00:00.000  Return to Owner         Dog    Intact Female   \n",
       "3  2020-02-02T00:00:00.000         Adoption         Dog    Neutered Male   \n",
       "4  2015-02-14T00:00:00.000         Transfer         Dog    Neutered Male   \n",
       "\n",
       "  age_upon_outcome                     breed                color      name  \\\n",
       "0         3 months        Domestic Shorthair         Torbie/White   UNKNOWN   \n",
       "1           1 year  Domestic Medium Hair Mix                Black    *Frito   \n",
       "2         2 months                  Pit Bull  Brown Brindle/White    Harley   \n",
       "3          2 years            Siberian Husky           White/Gray  *Guthrie   \n",
       "4          7 years               Bulldog Mix           Blue/White      Yeti   \n",
       "\n",
       "  outcome_subtype  new_age1 new_sex1  \n",
       "0             NaN  3 months   Female  \n",
       "1             NaN   1 years     Male  \n",
       "2             NaN  2 months   Female  \n",
       "3             NaN   2 years     Male  \n",
       "4         Partner   7 years     Male  "
      ]
     },
     "execution_count": 22,
     "metadata": {},
     "output_type": "execute_result"
    }
   ],
   "source": [
    "# Note this creates a copy of `animals` with the missing values replaced\n",
    "animals_name_filled = animals.fillna({'name':'UNKNOWN'}) # {col_name:new_value}\n",
    "animals_name_filled.head()"
   ]
  },
  {
   "cell_type": "code",
   "execution_count": 23,
   "metadata": {
    "hidden": true
   },
   "outputs": [
    {
     "data": {
      "text/html": [
       "<div>\n",
       "<style scoped>\n",
       "    .dataframe tbody tr th:only-of-type {\n",
       "        vertical-align: middle;\n",
       "    }\n",
       "\n",
       "    .dataframe tbody tr th {\n",
       "        vertical-align: top;\n",
       "    }\n",
       "\n",
       "    .dataframe thead th {\n",
       "        text-align: right;\n",
       "    }\n",
       "</style>\n",
       "<table border=\"1\" class=\"dataframe\">\n",
       "  <thead>\n",
       "    <tr style=\"text-align: right;\">\n",
       "      <th></th>\n",
       "      <th>animal_id</th>\n",
       "      <th>datetime</th>\n",
       "      <th>monthyear</th>\n",
       "      <th>date_of_birth</th>\n",
       "      <th>outcome_type</th>\n",
       "      <th>animal_type</th>\n",
       "      <th>sex_upon_outcome</th>\n",
       "      <th>age_upon_outcome</th>\n",
       "      <th>breed</th>\n",
       "      <th>color</th>\n",
       "      <th>name</th>\n",
       "      <th>outcome_subtype</th>\n",
       "      <th>new_age1</th>\n",
       "      <th>new_sex1</th>\n",
       "    </tr>\n",
       "  </thead>\n",
       "  <tbody>\n",
       "    <tr>\n",
       "      <th>0</th>\n",
       "      <td>A851721</td>\n",
       "      <td>2022-02-23 18:04:00</td>\n",
       "      <td>2022-02-23T18:04:00.000</td>\n",
       "      <td>2021-11-02T00:00:00.000</td>\n",
       "      <td>Adoption</td>\n",
       "      <td>Cat</td>\n",
       "      <td>Spayed Female</td>\n",
       "      <td>3 months</td>\n",
       "      <td>Domestic Shorthair</td>\n",
       "      <td>Torbie/White</td>\n",
       "      <td>NaN</td>\n",
       "      <td>NaN</td>\n",
       "      <td>3 months</td>\n",
       "      <td>Female</td>\n",
       "    </tr>\n",
       "    <tr>\n",
       "      <th>1</th>\n",
       "      <td>A851776</td>\n",
       "      <td>2022-02-23 17:54:00</td>\n",
       "      <td>2022-02-23T17:54:00.000</td>\n",
       "      <td>2021-02-18T00:00:00.000</td>\n",
       "      <td>Adoption</td>\n",
       "      <td>Cat</td>\n",
       "      <td>Neutered Male</td>\n",
       "      <td>1 year</td>\n",
       "      <td>Domestic Medium Hair Mix</td>\n",
       "      <td>Black</td>\n",
       "      <td>*Frito</td>\n",
       "      <td>NaN</td>\n",
       "      <td>1 years</td>\n",
       "      <td>Male</td>\n",
       "    </tr>\n",
       "    <tr>\n",
       "      <th>2</th>\n",
       "      <td>A851807</td>\n",
       "      <td>2022-02-23 17:26:00</td>\n",
       "      <td>2022-02-23T17:26:00.000</td>\n",
       "      <td>2021-12-19T00:00:00.000</td>\n",
       "      <td>Return to Owner</td>\n",
       "      <td>Dog</td>\n",
       "      <td>Intact Female</td>\n",
       "      <td>2 months</td>\n",
       "      <td>Pit Bull</td>\n",
       "      <td>Brown Brindle/White</td>\n",
       "      <td>Harley</td>\n",
       "      <td>NaN</td>\n",
       "      <td>2 months</td>\n",
       "      <td>Female</td>\n",
       "    </tr>\n",
       "    <tr>\n",
       "      <th>3</th>\n",
       "      <td>A840070</td>\n",
       "      <td>2022-02-23 17:22:00</td>\n",
       "      <td>2022-02-23T17:22:00.000</td>\n",
       "      <td>2020-02-02T00:00:00.000</td>\n",
       "      <td>Adoption</td>\n",
       "      <td>Dog</td>\n",
       "      <td>Neutered Male</td>\n",
       "      <td>2 years</td>\n",
       "      <td>Siberian Husky</td>\n",
       "      <td>White/Gray</td>\n",
       "      <td>*Guthrie</td>\n",
       "      <td>NaN</td>\n",
       "      <td>2 years</td>\n",
       "      <td>Male</td>\n",
       "    </tr>\n",
       "    <tr>\n",
       "      <th>4</th>\n",
       "      <td>A851532</td>\n",
       "      <td>2022-02-23 17:00:00</td>\n",
       "      <td>2022-02-23T17:00:00.000</td>\n",
       "      <td>2015-02-14T00:00:00.000</td>\n",
       "      <td>Transfer</td>\n",
       "      <td>Dog</td>\n",
       "      <td>Neutered Male</td>\n",
       "      <td>7 years</td>\n",
       "      <td>Bulldog Mix</td>\n",
       "      <td>Blue/White</td>\n",
       "      <td>Yeti</td>\n",
       "      <td>Partner</td>\n",
       "      <td>7 years</td>\n",
       "      <td>Male</td>\n",
       "    </tr>\n",
       "  </tbody>\n",
       "</table>\n",
       "</div>"
      ],
      "text/plain": [
       "  animal_id            datetime                monthyear  \\\n",
       "0   A851721 2022-02-23 18:04:00  2022-02-23T18:04:00.000   \n",
       "1   A851776 2022-02-23 17:54:00  2022-02-23T17:54:00.000   \n",
       "2   A851807 2022-02-23 17:26:00  2022-02-23T17:26:00.000   \n",
       "3   A840070 2022-02-23 17:22:00  2022-02-23T17:22:00.000   \n",
       "4   A851532 2022-02-23 17:00:00  2022-02-23T17:00:00.000   \n",
       "\n",
       "             date_of_birth     outcome_type animal_type sex_upon_outcome  \\\n",
       "0  2021-11-02T00:00:00.000         Adoption         Cat    Spayed Female   \n",
       "1  2021-02-18T00:00:00.000         Adoption         Cat    Neutered Male   \n",
       "2  2021-12-19T00:00:00.000  Return to Owner         Dog    Intact Female   \n",
       "3  2020-02-02T00:00:00.000         Adoption         Dog    Neutered Male   \n",
       "4  2015-02-14T00:00:00.000         Transfer         Dog    Neutered Male   \n",
       "\n",
       "  age_upon_outcome                     breed                color      name  \\\n",
       "0         3 months        Domestic Shorthair         Torbie/White       NaN   \n",
       "1           1 year  Domestic Medium Hair Mix                Black    *Frito   \n",
       "2         2 months                  Pit Bull  Brown Brindle/White    Harley   \n",
       "3          2 years            Siberian Husky           White/Gray  *Guthrie   \n",
       "4          7 years               Bulldog Mix           Blue/White      Yeti   \n",
       "\n",
       "  outcome_subtype  new_age1 new_sex1  \n",
       "0             NaN  3 months   Female  \n",
       "1             NaN   1 years     Male  \n",
       "2             NaN  2 months   Female  \n",
       "3             NaN   2 years     Male  \n",
       "4         Partner   7 years     Male  "
      ]
     },
     "execution_count": 23,
     "metadata": {},
     "output_type": "execute_result"
    }
   ],
   "source": [
    "# `animals` DataFrame is left untouched\n",
    "animals.head()"
   ]
  },
  {
   "cell_type": "code",
   "execution_count": 24,
   "metadata": {
    "hidden": true
   },
   "outputs": [
    {
     "data": {
      "text/html": [
       "<div>\n",
       "<style scoped>\n",
       "    .dataframe tbody tr th:only-of-type {\n",
       "        vertical-align: middle;\n",
       "    }\n",
       "\n",
       "    .dataframe tbody tr th {\n",
       "        vertical-align: top;\n",
       "    }\n",
       "\n",
       "    .dataframe thead th {\n",
       "        text-align: right;\n",
       "    }\n",
       "</style>\n",
       "<table border=\"1\" class=\"dataframe\">\n",
       "  <thead>\n",
       "    <tr style=\"text-align: right;\">\n",
       "      <th></th>\n",
       "      <th>name</th>\n",
       "    </tr>\n",
       "  </thead>\n",
       "  <tbody>\n",
       "    <tr>\n",
       "      <th>0</th>\n",
       "      <td>UNKNOWN</td>\n",
       "    </tr>\n",
       "    <tr>\n",
       "      <th>1</th>\n",
       "      <td>*Frito</td>\n",
       "    </tr>\n",
       "    <tr>\n",
       "      <th>2</th>\n",
       "      <td>Harley</td>\n",
       "    </tr>\n",
       "    <tr>\n",
       "      <th>3</th>\n",
       "      <td>*Guthrie</td>\n",
       "    </tr>\n",
       "    <tr>\n",
       "      <th>4</th>\n",
       "      <td>Yeti</td>\n",
       "    </tr>\n",
       "  </tbody>\n",
       "</table>\n",
       "</div>"
      ],
      "text/plain": [
       "       name\n",
       "0   UNKNOWN\n",
       "1    *Frito\n",
       "2    Harley\n",
       "3  *Guthrie\n",
       "4      Yeti"
      ]
     },
     "execution_count": 24,
     "metadata": {},
     "output_type": "execute_result"
    }
   ],
   "source": [
    "# Alternative way to fill missing values by specifying column(s) first\n",
    "animals_only_names = animals[['name']].fillna(value='UNKNOWN')\n",
    "animals_only_names.head()"
   ]
  },
  {
   "cell_type": "code",
   "execution_count": 25,
   "metadata": {
    "hidden": true
   },
   "outputs": [
    {
     "data": {
      "text/html": [
       "<div>\n",
       "<style scoped>\n",
       "    .dataframe tbody tr th:only-of-type {\n",
       "        vertical-align: middle;\n",
       "    }\n",
       "\n",
       "    .dataframe tbody tr th {\n",
       "        vertical-align: top;\n",
       "    }\n",
       "\n",
       "    .dataframe thead th {\n",
       "        text-align: right;\n",
       "    }\n",
       "</style>\n",
       "<table border=\"1\" class=\"dataframe\">\n",
       "  <thead>\n",
       "    <tr style=\"text-align: right;\">\n",
       "      <th></th>\n",
       "      <th>animal_id</th>\n",
       "      <th>datetime</th>\n",
       "      <th>monthyear</th>\n",
       "      <th>date_of_birth</th>\n",
       "      <th>outcome_type</th>\n",
       "      <th>animal_type</th>\n",
       "      <th>sex_upon_outcome</th>\n",
       "      <th>age_upon_outcome</th>\n",
       "      <th>breed</th>\n",
       "      <th>color</th>\n",
       "      <th>name</th>\n",
       "      <th>outcome_subtype</th>\n",
       "      <th>new_age1</th>\n",
       "      <th>new_sex1</th>\n",
       "    </tr>\n",
       "  </thead>\n",
       "  <tbody>\n",
       "    <tr>\n",
       "      <th>0</th>\n",
       "      <td>A851721</td>\n",
       "      <td>2022-02-23 18:04:00</td>\n",
       "      <td>2022-02-23T18:04:00.000</td>\n",
       "      <td>2021-11-02T00:00:00.000</td>\n",
       "      <td>Adoption</td>\n",
       "      <td>Cat</td>\n",
       "      <td>Spayed Female</td>\n",
       "      <td>3 months</td>\n",
       "      <td>Domestic Shorthair</td>\n",
       "      <td>Torbie/White</td>\n",
       "      <td>UNKNOWN</td>\n",
       "      <td>NaN</td>\n",
       "      <td>3 months</td>\n",
       "      <td>Female</td>\n",
       "    </tr>\n",
       "    <tr>\n",
       "      <th>1</th>\n",
       "      <td>A851776</td>\n",
       "      <td>2022-02-23 17:54:00</td>\n",
       "      <td>2022-02-23T17:54:00.000</td>\n",
       "      <td>2021-02-18T00:00:00.000</td>\n",
       "      <td>Adoption</td>\n",
       "      <td>Cat</td>\n",
       "      <td>Neutered Male</td>\n",
       "      <td>1 year</td>\n",
       "      <td>Domestic Medium Hair Mix</td>\n",
       "      <td>Black</td>\n",
       "      <td>*Frito</td>\n",
       "      <td>NaN</td>\n",
       "      <td>1 years</td>\n",
       "      <td>Male</td>\n",
       "    </tr>\n",
       "    <tr>\n",
       "      <th>2</th>\n",
       "      <td>A851807</td>\n",
       "      <td>2022-02-23 17:26:00</td>\n",
       "      <td>2022-02-23T17:26:00.000</td>\n",
       "      <td>2021-12-19T00:00:00.000</td>\n",
       "      <td>Return to Owner</td>\n",
       "      <td>Dog</td>\n",
       "      <td>Intact Female</td>\n",
       "      <td>2 months</td>\n",
       "      <td>Pit Bull</td>\n",
       "      <td>Brown Brindle/White</td>\n",
       "      <td>Harley</td>\n",
       "      <td>NaN</td>\n",
       "      <td>2 months</td>\n",
       "      <td>Female</td>\n",
       "    </tr>\n",
       "    <tr>\n",
       "      <th>3</th>\n",
       "      <td>A840070</td>\n",
       "      <td>2022-02-23 17:22:00</td>\n",
       "      <td>2022-02-23T17:22:00.000</td>\n",
       "      <td>2020-02-02T00:00:00.000</td>\n",
       "      <td>Adoption</td>\n",
       "      <td>Dog</td>\n",
       "      <td>Neutered Male</td>\n",
       "      <td>2 years</td>\n",
       "      <td>Siberian Husky</td>\n",
       "      <td>White/Gray</td>\n",
       "      <td>*Guthrie</td>\n",
       "      <td>NaN</td>\n",
       "      <td>2 years</td>\n",
       "      <td>Male</td>\n",
       "    </tr>\n",
       "    <tr>\n",
       "      <th>4</th>\n",
       "      <td>A851532</td>\n",
       "      <td>2022-02-23 17:00:00</td>\n",
       "      <td>2022-02-23T17:00:00.000</td>\n",
       "      <td>2015-02-14T00:00:00.000</td>\n",
       "      <td>Transfer</td>\n",
       "      <td>Dog</td>\n",
       "      <td>Neutered Male</td>\n",
       "      <td>7 years</td>\n",
       "      <td>Bulldog Mix</td>\n",
       "      <td>Blue/White</td>\n",
       "      <td>Yeti</td>\n",
       "      <td>Partner</td>\n",
       "      <td>7 years</td>\n",
       "      <td>Male</td>\n",
       "    </tr>\n",
       "  </tbody>\n",
       "</table>\n",
       "</div>"
      ],
      "text/plain": [
       "  animal_id            datetime                monthyear  \\\n",
       "0   A851721 2022-02-23 18:04:00  2022-02-23T18:04:00.000   \n",
       "1   A851776 2022-02-23 17:54:00  2022-02-23T17:54:00.000   \n",
       "2   A851807 2022-02-23 17:26:00  2022-02-23T17:26:00.000   \n",
       "3   A840070 2022-02-23 17:22:00  2022-02-23T17:22:00.000   \n",
       "4   A851532 2022-02-23 17:00:00  2022-02-23T17:00:00.000   \n",
       "\n",
       "             date_of_birth     outcome_type animal_type sex_upon_outcome  \\\n",
       "0  2021-11-02T00:00:00.000         Adoption         Cat    Spayed Female   \n",
       "1  2021-02-18T00:00:00.000         Adoption         Cat    Neutered Male   \n",
       "2  2021-12-19T00:00:00.000  Return to Owner         Dog    Intact Female   \n",
       "3  2020-02-02T00:00:00.000         Adoption         Dog    Neutered Male   \n",
       "4  2015-02-14T00:00:00.000         Transfer         Dog    Neutered Male   \n",
       "\n",
       "  age_upon_outcome                     breed                color      name  \\\n",
       "0         3 months        Domestic Shorthair         Torbie/White   UNKNOWN   \n",
       "1           1 year  Domestic Medium Hair Mix                Black    *Frito   \n",
       "2         2 months                  Pit Bull  Brown Brindle/White    Harley   \n",
       "3          2 years            Siberian Husky           White/Gray  *Guthrie   \n",
       "4          7 years               Bulldog Mix           Blue/White      Yeti   \n",
       "\n",
       "  outcome_subtype  new_age1 new_sex1  \n",
       "0             NaN  3 months   Female  \n",
       "1             NaN   1 years     Male  \n",
       "2             NaN  2 months   Female  \n",
       "3             NaN   2 years     Male  \n",
       "4         Partner   7 years     Male  "
      ]
     },
     "execution_count": 25,
     "metadata": {},
     "output_type": "execute_result"
    }
   ],
   "source": [
    "# To keep changes in DataFrame, overwrite the column\n",
    "animals_clean[['name']] = animals_only_names\n",
    "animals_clean.head()"
   ]
  },
  {
   "cell_type": "markdown",
   "metadata": {
    "heading_collapsed": true,
    "hidden": true
   },
   "source": [
    "## Fill with a Reasonable Value"
   ]
  },
  {
   "cell_type": "markdown",
   "metadata": {
    "hidden": true
   },
   "source": [
    "Other times we don't know what the missing value was but we might have a reasonable guess. This allows us to still use the data point (row) in our analysis."
   ]
  },
  {
   "cell_type": "markdown",
   "metadata": {
    "hidden": true
   },
   "source": [
    "> Beware that filling in missing values can lead to you drawing incorrect conclusions. If most of the data from a column are missing, it's going to appear that the value you filled it in with is more common that it actually was!"
   ]
  },
  {
   "cell_type": "markdown",
   "metadata": {
    "hidden": true
   },
   "source": [
    "A lot of the time we'll use the _mean_ or _median_ for numerical values. Sometimes values like $0$ make sense since it might make sense in the context of how the data was collected.\n",
    "\n",
    "With categorical values, you might choose to fill the missing values with the most common value (the _mode_)."
   ]
  },
  {
   "cell_type": "markdown",
   "metadata": {
    "hidden": true
   },
   "source": [
    "> Similar to the previous subsection, we can use the `fillna()` method after specifying the value to fill"
   ]
  },
  {
   "cell_type": "code",
   "execution_count": 26,
   "metadata": {
    "hidden": true
   },
   "outputs": [
    {
     "data": {
      "text/plain": [
       "Partner        146\n",
       "Foster         134\n",
       "Out State       44\n",
       "Rabies Risk     24\n",
       "Suffering       19\n",
       "Snr             19\n",
       "Aggressive       5\n",
       "Field            3\n",
       "In Foster        2\n",
       "At Vet           2\n",
       "In Kennel        2\n",
       "Medical          1\n",
       "Name: outcome_subtype, dtype: int64"
      ]
     },
     "execution_count": 26,
     "metadata": {},
     "output_type": "execute_result"
    }
   ],
   "source": [
    "## Let's find the most common value for `outcome_subtype`\n",
    "outcome_subtype_counts = animals['outcome_subtype'].value_counts()\n",
    "outcome_subtype_counts"
   ]
  },
  {
   "cell_type": "code",
   "execution_count": 27,
   "metadata": {
    "hidden": true
   },
   "outputs": [
    {
     "name": "stdout",
     "output_type": "stream",
     "text": [
      "Index(['Partner', 'Foster', 'Out State', 'Rabies Risk', 'Suffering', 'Snr',\n",
      "       'Aggressive', 'Field', 'In Foster', 'At Vet', 'In Kennel', 'Medical'],\n",
      "      dtype='object')\n"
     ]
    }
   ],
   "source": [
    "# This gets us just the values in order of most frequent to least frequent\n",
    "outcome_subtype_ordered = outcome_subtype_counts.index\n",
    "print(outcome_subtype_ordered)\n",
    "\n",
    "# Get the first one\n",
    "most_common_outcome_subtype = outcome_subtype_ordered[0]"
   ]
  },
  {
   "cell_type": "code",
   "execution_count": 28,
   "metadata": {
    "hidden": true
   },
   "outputs": [
    {
     "data": {
      "text/plain": [
       "'Partner'"
      ]
     },
     "execution_count": 28,
     "metadata": {},
     "output_type": "execute_result"
    }
   ],
   "source": [
    "# Using the built-in mode() method\n",
    "# Note this is Series so we have to get the first element (which is the value)\n",
    "most_common_outcome_subtype = animals['outcome_subtype'].mode()[0]\n",
    "most_common_outcome_subtype"
   ]
  },
  {
   "cell_type": "code",
   "execution_count": 29,
   "metadata": {
    "hidden": true,
    "scrolled": true
   },
   "outputs": [
    {
     "data": {
      "text/html": [
       "<div>\n",
       "<style scoped>\n",
       "    .dataframe tbody tr th:only-of-type {\n",
       "        vertical-align: middle;\n",
       "    }\n",
       "\n",
       "    .dataframe tbody tr th {\n",
       "        vertical-align: top;\n",
       "    }\n",
       "\n",
       "    .dataframe thead th {\n",
       "        text-align: right;\n",
       "    }\n",
       "</style>\n",
       "<table border=\"1\" class=\"dataframe\">\n",
       "  <thead>\n",
       "    <tr style=\"text-align: right;\">\n",
       "      <th></th>\n",
       "      <th>animal_id</th>\n",
       "      <th>datetime</th>\n",
       "      <th>monthyear</th>\n",
       "      <th>date_of_birth</th>\n",
       "      <th>outcome_type</th>\n",
       "      <th>animal_type</th>\n",
       "      <th>sex_upon_outcome</th>\n",
       "      <th>age_upon_outcome</th>\n",
       "      <th>breed</th>\n",
       "      <th>color</th>\n",
       "      <th>name</th>\n",
       "      <th>outcome_subtype</th>\n",
       "      <th>new_age1</th>\n",
       "      <th>new_sex1</th>\n",
       "    </tr>\n",
       "  </thead>\n",
       "  <tbody>\n",
       "    <tr>\n",
       "      <th>0</th>\n",
       "      <td>A851721</td>\n",
       "      <td>2022-02-23 18:04:00</td>\n",
       "      <td>2022-02-23T18:04:00.000</td>\n",
       "      <td>2021-11-02T00:00:00.000</td>\n",
       "      <td>Adoption</td>\n",
       "      <td>Cat</td>\n",
       "      <td>Spayed Female</td>\n",
       "      <td>3 months</td>\n",
       "      <td>Domestic Shorthair</td>\n",
       "      <td>Torbie/White</td>\n",
       "      <td>UNKNOWN</td>\n",
       "      <td>Partner</td>\n",
       "      <td>3 months</td>\n",
       "      <td>Female</td>\n",
       "    </tr>\n",
       "    <tr>\n",
       "      <th>1</th>\n",
       "      <td>A851776</td>\n",
       "      <td>2022-02-23 17:54:00</td>\n",
       "      <td>2022-02-23T17:54:00.000</td>\n",
       "      <td>2021-02-18T00:00:00.000</td>\n",
       "      <td>Adoption</td>\n",
       "      <td>Cat</td>\n",
       "      <td>Neutered Male</td>\n",
       "      <td>1 year</td>\n",
       "      <td>Domestic Medium Hair Mix</td>\n",
       "      <td>Black</td>\n",
       "      <td>*Frito</td>\n",
       "      <td>Partner</td>\n",
       "      <td>1 years</td>\n",
       "      <td>Male</td>\n",
       "    </tr>\n",
       "    <tr>\n",
       "      <th>2</th>\n",
       "      <td>A851807</td>\n",
       "      <td>2022-02-23 17:26:00</td>\n",
       "      <td>2022-02-23T17:26:00.000</td>\n",
       "      <td>2021-12-19T00:00:00.000</td>\n",
       "      <td>Return to Owner</td>\n",
       "      <td>Dog</td>\n",
       "      <td>Intact Female</td>\n",
       "      <td>2 months</td>\n",
       "      <td>Pit Bull</td>\n",
       "      <td>Brown Brindle/White</td>\n",
       "      <td>Harley</td>\n",
       "      <td>Partner</td>\n",
       "      <td>2 months</td>\n",
       "      <td>Female</td>\n",
       "    </tr>\n",
       "    <tr>\n",
       "      <th>3</th>\n",
       "      <td>A840070</td>\n",
       "      <td>2022-02-23 17:22:00</td>\n",
       "      <td>2022-02-23T17:22:00.000</td>\n",
       "      <td>2020-02-02T00:00:00.000</td>\n",
       "      <td>Adoption</td>\n",
       "      <td>Dog</td>\n",
       "      <td>Neutered Male</td>\n",
       "      <td>2 years</td>\n",
       "      <td>Siberian Husky</td>\n",
       "      <td>White/Gray</td>\n",
       "      <td>*Guthrie</td>\n",
       "      <td>Partner</td>\n",
       "      <td>2 years</td>\n",
       "      <td>Male</td>\n",
       "    </tr>\n",
       "    <tr>\n",
       "      <th>4</th>\n",
       "      <td>A851532</td>\n",
       "      <td>2022-02-23 17:00:00</td>\n",
       "      <td>2022-02-23T17:00:00.000</td>\n",
       "      <td>2015-02-14T00:00:00.000</td>\n",
       "      <td>Transfer</td>\n",
       "      <td>Dog</td>\n",
       "      <td>Neutered Male</td>\n",
       "      <td>7 years</td>\n",
       "      <td>Bulldog Mix</td>\n",
       "      <td>Blue/White</td>\n",
       "      <td>Yeti</td>\n",
       "      <td>Partner</td>\n",
       "      <td>7 years</td>\n",
       "      <td>Male</td>\n",
       "    </tr>\n",
       "  </tbody>\n",
       "</table>\n",
       "</div>"
      ],
      "text/plain": [
       "  animal_id            datetime                monthyear  \\\n",
       "0   A851721 2022-02-23 18:04:00  2022-02-23T18:04:00.000   \n",
       "1   A851776 2022-02-23 17:54:00  2022-02-23T17:54:00.000   \n",
       "2   A851807 2022-02-23 17:26:00  2022-02-23T17:26:00.000   \n",
       "3   A840070 2022-02-23 17:22:00  2022-02-23T17:22:00.000   \n",
       "4   A851532 2022-02-23 17:00:00  2022-02-23T17:00:00.000   \n",
       "\n",
       "             date_of_birth     outcome_type animal_type sex_upon_outcome  \\\n",
       "0  2021-11-02T00:00:00.000         Adoption         Cat    Spayed Female   \n",
       "1  2021-02-18T00:00:00.000         Adoption         Cat    Neutered Male   \n",
       "2  2021-12-19T00:00:00.000  Return to Owner         Dog    Intact Female   \n",
       "3  2020-02-02T00:00:00.000         Adoption         Dog    Neutered Male   \n",
       "4  2015-02-14T00:00:00.000         Transfer         Dog    Neutered Male   \n",
       "\n",
       "  age_upon_outcome                     breed                color      name  \\\n",
       "0         3 months        Domestic Shorthair         Torbie/White   UNKNOWN   \n",
       "1           1 year  Domestic Medium Hair Mix                Black    *Frito   \n",
       "2         2 months                  Pit Bull  Brown Brindle/White    Harley   \n",
       "3          2 years            Siberian Husky           White/Gray  *Guthrie   \n",
       "4          7 years               Bulldog Mix           Blue/White      Yeti   \n",
       "\n",
       "  outcome_subtype  new_age1 new_sex1  \n",
       "0         Partner  3 months   Female  \n",
       "1         Partner   1 years     Male  \n",
       "2         Partner  2 months   Female  \n",
       "3         Partner   2 years     Male  \n",
       "4         Partner   7 years     Male  "
      ]
     },
     "execution_count": 29,
     "metadata": {},
     "output_type": "execute_result"
    }
   ],
   "source": [
    "# Similar to the previous subsection, we can use fillna() and update the DF\n",
    "animals_clean['outcome_subtype'] = animals['outcome_subtype'].fillna(most_common_outcome_subtype)\n",
    "animals_clean.head()"
   ]
  },
  {
   "cell_type": "markdown",
   "metadata": {
    "heading_collapsed": true,
    "hidden": true
   },
   "source": [
    "## Specify That the Data Were Missing"
   ]
  },
  {
   "cell_type": "markdown",
   "metadata": {
    "hidden": true
   },
   "source": [
    "Even after filling in missing values, it might make sense to specify that there were missing data. You can document that the data was missing by creating a new column that represents whether the data was originally missing or not."
   ]
  },
  {
   "cell_type": "markdown",
   "metadata": {
    "hidden": true
   },
   "source": [
    "This can be helpful when you suspect that the fact the data was missing could be important for an analysis."
   ]
  },
  {
   "cell_type": "markdown",
   "metadata": {
    "hidden": true
   },
   "source": [
    "> Since we already removed some missing values, we're going to reference back to the original `animals` DataFrame. (Good thing we didn't overwrite it! 😉)"
   ]
  },
  {
   "cell_type": "code",
   "execution_count": 30,
   "metadata": {
    "hidden": true
   },
   "outputs": [
    {
     "data": {
      "text/plain": [
       "0       True\n",
       "1       True\n",
       "2       True\n",
       "3       True\n",
       "4      False\n",
       "       ...  \n",
       "995     True\n",
       "996     True\n",
       "997    False\n",
       "998    False\n",
       "999     True\n",
       "Name: outcome_subtype, Length: 1000, dtype: bool"
      ]
     },
     "execution_count": 30,
     "metadata": {},
     "output_type": "execute_result"
    }
   ],
   "source": [
    "# Let's specify which values were originally missing in \"outcome_subtype\"\n",
    "missing_outcome_subtypes = animals['outcome_subtype'].isna()\n",
    "missing_outcome_subtypes"
   ]
  },
  {
   "cell_type": "code",
   "execution_count": 31,
   "metadata": {
    "hidden": true
   },
   "outputs": [
    {
     "data": {
      "text/html": [
       "<div>\n",
       "<style scoped>\n",
       "    .dataframe tbody tr th:only-of-type {\n",
       "        vertical-align: middle;\n",
       "    }\n",
       "\n",
       "    .dataframe tbody tr th {\n",
       "        vertical-align: top;\n",
       "    }\n",
       "\n",
       "    .dataframe thead th {\n",
       "        text-align: right;\n",
       "    }\n",
       "</style>\n",
       "<table border=\"1\" class=\"dataframe\">\n",
       "  <thead>\n",
       "    <tr style=\"text-align: right;\">\n",
       "      <th></th>\n",
       "      <th>animal_id</th>\n",
       "      <th>datetime</th>\n",
       "      <th>monthyear</th>\n",
       "      <th>date_of_birth</th>\n",
       "      <th>outcome_type</th>\n",
       "      <th>animal_type</th>\n",
       "      <th>sex_upon_outcome</th>\n",
       "      <th>age_upon_outcome</th>\n",
       "      <th>breed</th>\n",
       "      <th>color</th>\n",
       "      <th>name</th>\n",
       "      <th>outcome_subtype</th>\n",
       "      <th>new_age1</th>\n",
       "      <th>new_sex1</th>\n",
       "      <th>outcome_subtype_missing</th>\n",
       "    </tr>\n",
       "  </thead>\n",
       "  <tbody>\n",
       "    <tr>\n",
       "      <th>0</th>\n",
       "      <td>A851721</td>\n",
       "      <td>2022-02-23 18:04:00</td>\n",
       "      <td>2022-02-23T18:04:00.000</td>\n",
       "      <td>2021-11-02T00:00:00.000</td>\n",
       "      <td>Adoption</td>\n",
       "      <td>Cat</td>\n",
       "      <td>Spayed Female</td>\n",
       "      <td>3 months</td>\n",
       "      <td>Domestic Shorthair</td>\n",
       "      <td>Torbie/White</td>\n",
       "      <td>UNKNOWN</td>\n",
       "      <td>Partner</td>\n",
       "      <td>3 months</td>\n",
       "      <td>Female</td>\n",
       "      <td>True</td>\n",
       "    </tr>\n",
       "    <tr>\n",
       "      <th>1</th>\n",
       "      <td>A851776</td>\n",
       "      <td>2022-02-23 17:54:00</td>\n",
       "      <td>2022-02-23T17:54:00.000</td>\n",
       "      <td>2021-02-18T00:00:00.000</td>\n",
       "      <td>Adoption</td>\n",
       "      <td>Cat</td>\n",
       "      <td>Neutered Male</td>\n",
       "      <td>1 year</td>\n",
       "      <td>Domestic Medium Hair Mix</td>\n",
       "      <td>Black</td>\n",
       "      <td>*Frito</td>\n",
       "      <td>Partner</td>\n",
       "      <td>1 years</td>\n",
       "      <td>Male</td>\n",
       "      <td>True</td>\n",
       "    </tr>\n",
       "    <tr>\n",
       "      <th>2</th>\n",
       "      <td>A851807</td>\n",
       "      <td>2022-02-23 17:26:00</td>\n",
       "      <td>2022-02-23T17:26:00.000</td>\n",
       "      <td>2021-12-19T00:00:00.000</td>\n",
       "      <td>Return to Owner</td>\n",
       "      <td>Dog</td>\n",
       "      <td>Intact Female</td>\n",
       "      <td>2 months</td>\n",
       "      <td>Pit Bull</td>\n",
       "      <td>Brown Brindle/White</td>\n",
       "      <td>Harley</td>\n",
       "      <td>Partner</td>\n",
       "      <td>2 months</td>\n",
       "      <td>Female</td>\n",
       "      <td>True</td>\n",
       "    </tr>\n",
       "    <tr>\n",
       "      <th>3</th>\n",
       "      <td>A840070</td>\n",
       "      <td>2022-02-23 17:22:00</td>\n",
       "      <td>2022-02-23T17:22:00.000</td>\n",
       "      <td>2020-02-02T00:00:00.000</td>\n",
       "      <td>Adoption</td>\n",
       "      <td>Dog</td>\n",
       "      <td>Neutered Male</td>\n",
       "      <td>2 years</td>\n",
       "      <td>Siberian Husky</td>\n",
       "      <td>White/Gray</td>\n",
       "      <td>*Guthrie</td>\n",
       "      <td>Partner</td>\n",
       "      <td>2 years</td>\n",
       "      <td>Male</td>\n",
       "      <td>True</td>\n",
       "    </tr>\n",
       "    <tr>\n",
       "      <th>4</th>\n",
       "      <td>A851532</td>\n",
       "      <td>2022-02-23 17:00:00</td>\n",
       "      <td>2022-02-23T17:00:00.000</td>\n",
       "      <td>2015-02-14T00:00:00.000</td>\n",
       "      <td>Transfer</td>\n",
       "      <td>Dog</td>\n",
       "      <td>Neutered Male</td>\n",
       "      <td>7 years</td>\n",
       "      <td>Bulldog Mix</td>\n",
       "      <td>Blue/White</td>\n",
       "      <td>Yeti</td>\n",
       "      <td>Partner</td>\n",
       "      <td>7 years</td>\n",
       "      <td>Male</td>\n",
       "      <td>False</td>\n",
       "    </tr>\n",
       "  </tbody>\n",
       "</table>\n",
       "</div>"
      ],
      "text/plain": [
       "  animal_id            datetime                monthyear  \\\n",
       "0   A851721 2022-02-23 18:04:00  2022-02-23T18:04:00.000   \n",
       "1   A851776 2022-02-23 17:54:00  2022-02-23T17:54:00.000   \n",
       "2   A851807 2022-02-23 17:26:00  2022-02-23T17:26:00.000   \n",
       "3   A840070 2022-02-23 17:22:00  2022-02-23T17:22:00.000   \n",
       "4   A851532 2022-02-23 17:00:00  2022-02-23T17:00:00.000   \n",
       "\n",
       "             date_of_birth     outcome_type animal_type sex_upon_outcome  \\\n",
       "0  2021-11-02T00:00:00.000         Adoption         Cat    Spayed Female   \n",
       "1  2021-02-18T00:00:00.000         Adoption         Cat    Neutered Male   \n",
       "2  2021-12-19T00:00:00.000  Return to Owner         Dog    Intact Female   \n",
       "3  2020-02-02T00:00:00.000         Adoption         Dog    Neutered Male   \n",
       "4  2015-02-14T00:00:00.000         Transfer         Dog    Neutered Male   \n",
       "\n",
       "  age_upon_outcome                     breed                color      name  \\\n",
       "0         3 months        Domestic Shorthair         Torbie/White   UNKNOWN   \n",
       "1           1 year  Domestic Medium Hair Mix                Black    *Frito   \n",
       "2         2 months                  Pit Bull  Brown Brindle/White    Harley   \n",
       "3          2 years            Siberian Husky           White/Gray  *Guthrie   \n",
       "4          7 years               Bulldog Mix           Blue/White      Yeti   \n",
       "\n",
       "  outcome_subtype  new_age1 new_sex1  outcome_subtype_missing  \n",
       "0         Partner  3 months   Female                     True  \n",
       "1         Partner   1 years     Male                     True  \n",
       "2         Partner  2 months   Female                     True  \n",
       "3         Partner   2 years     Male                     True  \n",
       "4         Partner   7 years     Male                    False  "
      ]
     },
     "execution_count": 31,
     "metadata": {},
     "output_type": "execute_result"
    }
   ],
   "source": [
    "# Create new column for missing outcome subtypes matched w/ replaced values\n",
    "animals_clean['outcome_subtype_missing'] = missing_outcome_subtypes\n",
    "animals_clean.head()"
   ]
  },
  {
   "cell_type": "markdown",
   "metadata": {
    "heading_collapsed": true,
    "hidden": true
   },
   "source": [
    "## Drop Missing Data"
   ]
  },
  {
   "cell_type": "markdown",
   "metadata": {
    "hidden": true
   },
   "source": [
    "You should try to keep as much relevant data as possible, but sometimes the other methods don't make as much sense and it's better to remove or **drop** the missing data."
   ]
  },
  {
   "cell_type": "markdown",
   "metadata": {
    "hidden": true
   },
   "source": [
    "We typically drop missing data if very little data would be lost and/or trying to fill in the values wouldn't make sense for our use case. For example, if you're trying to predict the outcome based on the other features/columns it might not make sense to fill in those missing values with something you can't confirm."
   ]
  },
  {
   "cell_type": "markdown",
   "metadata": {
    "hidden": true
   },
   "source": [
    "> We noticed that `outcome_type` had only two missing values. It might not be worth trying to handle those two missing values. We can pretend that the `outcome_type` was an important feature and without it the rest of the row's data is of little importance to us.\n",
    ">\n",
    "> So we'll decide to drop the row if a value from `outcome_type` is missing. We'll use Pandas' [`dropna()` method](https://pandas.pydata.org/pandas-docs/stable/reference/api/pandas.DataFrame.dropna.html)."
   ]
  },
  {
   "cell_type": "code",
   "execution_count": 32,
   "metadata": {
    "hidden": true
   },
   "outputs": [
    {
     "data": {
      "text/html": [
       "<div>\n",
       "<style scoped>\n",
       "    .dataframe tbody tr th:only-of-type {\n",
       "        vertical-align: middle;\n",
       "    }\n",
       "\n",
       "    .dataframe tbody tr th {\n",
       "        vertical-align: top;\n",
       "    }\n",
       "\n",
       "    .dataframe thead th {\n",
       "        text-align: right;\n",
       "    }\n",
       "</style>\n",
       "<table border=\"1\" class=\"dataframe\">\n",
       "  <thead>\n",
       "    <tr style=\"text-align: right;\">\n",
       "      <th></th>\n",
       "      <th>animal_id</th>\n",
       "      <th>datetime</th>\n",
       "      <th>monthyear</th>\n",
       "      <th>date_of_birth</th>\n",
       "      <th>outcome_type</th>\n",
       "      <th>animal_type</th>\n",
       "      <th>sex_upon_outcome</th>\n",
       "      <th>age_upon_outcome</th>\n",
       "      <th>breed</th>\n",
       "      <th>color</th>\n",
       "      <th>name</th>\n",
       "      <th>outcome_subtype</th>\n",
       "      <th>new_age1</th>\n",
       "      <th>new_sex1</th>\n",
       "      <th>outcome_subtype_missing</th>\n",
       "    </tr>\n",
       "  </thead>\n",
       "  <tbody>\n",
       "    <tr>\n",
       "      <th>0</th>\n",
       "      <td>A851721</td>\n",
       "      <td>2022-02-23 18:04:00</td>\n",
       "      <td>2022-02-23T18:04:00.000</td>\n",
       "      <td>2021-11-02T00:00:00.000</td>\n",
       "      <td>Adoption</td>\n",
       "      <td>Cat</td>\n",
       "      <td>Spayed Female</td>\n",
       "      <td>3 months</td>\n",
       "      <td>Domestic Shorthair</td>\n",
       "      <td>Torbie/White</td>\n",
       "      <td>UNKNOWN</td>\n",
       "      <td>Partner</td>\n",
       "      <td>3 months</td>\n",
       "      <td>Female</td>\n",
       "      <td>True</td>\n",
       "    </tr>\n",
       "    <tr>\n",
       "      <th>1</th>\n",
       "      <td>A851776</td>\n",
       "      <td>2022-02-23 17:54:00</td>\n",
       "      <td>2022-02-23T17:54:00.000</td>\n",
       "      <td>2021-02-18T00:00:00.000</td>\n",
       "      <td>Adoption</td>\n",
       "      <td>Cat</td>\n",
       "      <td>Neutered Male</td>\n",
       "      <td>1 year</td>\n",
       "      <td>Domestic Medium Hair Mix</td>\n",
       "      <td>Black</td>\n",
       "      <td>*Frito</td>\n",
       "      <td>Partner</td>\n",
       "      <td>1 years</td>\n",
       "      <td>Male</td>\n",
       "      <td>True</td>\n",
       "    </tr>\n",
       "    <tr>\n",
       "      <th>2</th>\n",
       "      <td>A851807</td>\n",
       "      <td>2022-02-23 17:26:00</td>\n",
       "      <td>2022-02-23T17:26:00.000</td>\n",
       "      <td>2021-12-19T00:00:00.000</td>\n",
       "      <td>Return to Owner</td>\n",
       "      <td>Dog</td>\n",
       "      <td>Intact Female</td>\n",
       "      <td>2 months</td>\n",
       "      <td>Pit Bull</td>\n",
       "      <td>Brown Brindle/White</td>\n",
       "      <td>Harley</td>\n",
       "      <td>Partner</td>\n",
       "      <td>2 months</td>\n",
       "      <td>Female</td>\n",
       "      <td>True</td>\n",
       "    </tr>\n",
       "    <tr>\n",
       "      <th>3</th>\n",
       "      <td>A840070</td>\n",
       "      <td>2022-02-23 17:22:00</td>\n",
       "      <td>2022-02-23T17:22:00.000</td>\n",
       "      <td>2020-02-02T00:00:00.000</td>\n",
       "      <td>Adoption</td>\n",
       "      <td>Dog</td>\n",
       "      <td>Neutered Male</td>\n",
       "      <td>2 years</td>\n",
       "      <td>Siberian Husky</td>\n",
       "      <td>White/Gray</td>\n",
       "      <td>*Guthrie</td>\n",
       "      <td>Partner</td>\n",
       "      <td>2 years</td>\n",
       "      <td>Male</td>\n",
       "      <td>True</td>\n",
       "    </tr>\n",
       "    <tr>\n",
       "      <th>4</th>\n",
       "      <td>A851532</td>\n",
       "      <td>2022-02-23 17:00:00</td>\n",
       "      <td>2022-02-23T17:00:00.000</td>\n",
       "      <td>2015-02-14T00:00:00.000</td>\n",
       "      <td>Transfer</td>\n",
       "      <td>Dog</td>\n",
       "      <td>Neutered Male</td>\n",
       "      <td>7 years</td>\n",
       "      <td>Bulldog Mix</td>\n",
       "      <td>Blue/White</td>\n",
       "      <td>Yeti</td>\n",
       "      <td>Partner</td>\n",
       "      <td>7 years</td>\n",
       "      <td>Male</td>\n",
       "      <td>False</td>\n",
       "    </tr>\n",
       "  </tbody>\n",
       "</table>\n",
       "</div>"
      ],
      "text/plain": [
       "  animal_id            datetime                monthyear  \\\n",
       "0   A851721 2022-02-23 18:04:00  2022-02-23T18:04:00.000   \n",
       "1   A851776 2022-02-23 17:54:00  2022-02-23T17:54:00.000   \n",
       "2   A851807 2022-02-23 17:26:00  2022-02-23T17:26:00.000   \n",
       "3   A840070 2022-02-23 17:22:00  2022-02-23T17:22:00.000   \n",
       "4   A851532 2022-02-23 17:00:00  2022-02-23T17:00:00.000   \n",
       "\n",
       "             date_of_birth     outcome_type animal_type sex_upon_outcome  \\\n",
       "0  2021-11-02T00:00:00.000         Adoption         Cat    Spayed Female   \n",
       "1  2021-02-18T00:00:00.000         Adoption         Cat    Neutered Male   \n",
       "2  2021-12-19T00:00:00.000  Return to Owner         Dog    Intact Female   \n",
       "3  2020-02-02T00:00:00.000         Adoption         Dog    Neutered Male   \n",
       "4  2015-02-14T00:00:00.000         Transfer         Dog    Neutered Male   \n",
       "\n",
       "  age_upon_outcome                     breed                color      name  \\\n",
       "0         3 months        Domestic Shorthair         Torbie/White   UNKNOWN   \n",
       "1           1 year  Domestic Medium Hair Mix                Black    *Frito   \n",
       "2         2 months                  Pit Bull  Brown Brindle/White    Harley   \n",
       "3          2 years            Siberian Husky           White/Gray  *Guthrie   \n",
       "4          7 years               Bulldog Mix           Blue/White      Yeti   \n",
       "\n",
       "  outcome_subtype  new_age1 new_sex1  outcome_subtype_missing  \n",
       "0         Partner  3 months   Female                     True  \n",
       "1         Partner   1 years     Male                     True  \n",
       "2         Partner  2 months   Female                     True  \n",
       "3         Partner   2 years     Male                     True  \n",
       "4         Partner   7 years     Male                    False  "
      ]
     },
     "execution_count": 32,
     "metadata": {},
     "output_type": "execute_result"
    }
   ],
   "source": [
    "# This will drop any row (axis=0) or column (axis=1) that has missing values\n",
    "animals_clean = animals_clean.dropna(   # Note we're overwriting animals_clean\n",
    "                                axis=0, # This is the default & will drop rows; axis=1 for cols\n",
    "                                subset=['outcome_type'] # Specific labels to consider (defaults to all)\n",
    ")\n",
    "animals_clean.head()"
   ]
  },
  {
   "cell_type": "markdown",
   "metadata": {
    "heading_collapsed": true,
    "hidden": true
   },
   "source": [
    "## Comparing Before and After"
   ]
  },
  {
   "cell_type": "markdown",
   "metadata": {
    "hidden": true
   },
   "source": [
    "We can now see all the work we did!"
   ]
  },
  {
   "cell_type": "code",
   "execution_count": 33,
   "metadata": {
    "hidden": true
   },
   "outputs": [
    {
     "name": "stdout",
     "output_type": "stream",
     "text": [
      "<class 'pandas.core.frame.DataFrame'>\n",
      "RangeIndex: 1000 entries, 0 to 999\n",
      "Data columns (total 14 columns):\n",
      " #   Column            Non-Null Count  Dtype         \n",
      "---  ------            --------------  -----         \n",
      " 0   animal_id         1000 non-null   object        \n",
      " 1   datetime          1000 non-null   datetime64[ns]\n",
      " 2   monthyear         1000 non-null   object        \n",
      " 3   date_of_birth     1000 non-null   object        \n",
      " 4   outcome_type      1000 non-null   object        \n",
      " 5   animal_type       1000 non-null   object        \n",
      " 6   sex_upon_outcome  1000 non-null   object        \n",
      " 7   age_upon_outcome  1000 non-null   object        \n",
      " 8   breed             1000 non-null   object        \n",
      " 9   color             1000 non-null   object        \n",
      " 10  name              871 non-null    object        \n",
      " 11  outcome_subtype   401 non-null    object        \n",
      " 12  new_age1          1000 non-null   object        \n",
      " 13  new_sex1          1000 non-null   object        \n",
      "dtypes: datetime64[ns](1), object(13)\n",
      "memory usage: 109.5+ KB\n"
     ]
    }
   ],
   "source": [
    "# Original data\n",
    "animals.info()"
   ]
  },
  {
   "cell_type": "code",
   "execution_count": 34,
   "metadata": {
    "hidden": true
   },
   "outputs": [
    {
     "name": "stdout",
     "output_type": "stream",
     "text": [
      "<class 'pandas.core.frame.DataFrame'>\n",
      "Int64Index: 1000 entries, 0 to 999\n",
      "Data columns (total 15 columns):\n",
      " #   Column                   Non-Null Count  Dtype         \n",
      "---  ------                   --------------  -----         \n",
      " 0   animal_id                1000 non-null   object        \n",
      " 1   datetime                 1000 non-null   datetime64[ns]\n",
      " 2   monthyear                1000 non-null   object        \n",
      " 3   date_of_birth            1000 non-null   object        \n",
      " 4   outcome_type             1000 non-null   object        \n",
      " 5   animal_type              1000 non-null   object        \n",
      " 6   sex_upon_outcome         1000 non-null   object        \n",
      " 7   age_upon_outcome         1000 non-null   object        \n",
      " 8   breed                    1000 non-null   object        \n",
      " 9   color                    1000 non-null   object        \n",
      " 10  name                     1000 non-null   object        \n",
      " 11  outcome_subtype          1000 non-null   object        \n",
      " 12  new_age1                 1000 non-null   object        \n",
      " 13  new_sex1                 1000 non-null   object        \n",
      " 14  outcome_subtype_missing  1000 non-null   bool          \n",
      "dtypes: bool(1), datetime64[ns](1), object(13)\n",
      "memory usage: 118.2+ KB\n"
     ]
    }
   ],
   "source": [
    "# Missing data cleaned\n",
    "animals_clean.info()"
   ]
  },
  {
   "cell_type": "markdown",
   "metadata": {
    "heading_collapsed": true
   },
   "source": [
    "# Level Up: `.applymap()`"
   ]
  },
  {
   "cell_type": "markdown",
   "metadata": {
    "hidden": true
   },
   "source": [
    "`.applymap()` is used to apply a transformation to each element of a DataFrame."
   ]
  },
  {
   "cell_type": "code",
   "execution_count": 35,
   "metadata": {
    "hidden": true,
    "scrolled": true
   },
   "outputs": [
    {
     "data": {
      "text/html": [
       "<div>\n",
       "<style scoped>\n",
       "    .dataframe tbody tr th:only-of-type {\n",
       "        vertical-align: middle;\n",
       "    }\n",
       "\n",
       "    .dataframe tbody tr th {\n",
       "        vertical-align: top;\n",
       "    }\n",
       "\n",
       "    .dataframe thead th {\n",
       "        text-align: right;\n",
       "    }\n",
       "</style>\n",
       "<table border=\"1\" class=\"dataframe\">\n",
       "  <thead>\n",
       "    <tr style=\"text-align: right;\">\n",
       "      <th></th>\n",
       "      <th>animal_id</th>\n",
       "      <th>datetime</th>\n",
       "      <th>monthyear</th>\n",
       "      <th>date_of_birth</th>\n",
       "      <th>outcome_type</th>\n",
       "      <th>animal_type</th>\n",
       "      <th>sex_upon_outcome</th>\n",
       "      <th>age_upon_outcome</th>\n",
       "      <th>breed</th>\n",
       "      <th>color</th>\n",
       "      <th>name</th>\n",
       "      <th>outcome_subtype</th>\n",
       "      <th>new_age1</th>\n",
       "      <th>new_sex1</th>\n",
       "    </tr>\n",
       "  </thead>\n",
       "  <tbody>\n",
       "    <tr>\n",
       "      <th>0</th>\n",
       "      <td>&lt;class 'str'&gt;</td>\n",
       "      <td>&lt;class 'pandas._libs.tslibs.timestamps.Timesta...</td>\n",
       "      <td>&lt;class 'str'&gt;</td>\n",
       "      <td>&lt;class 'str'&gt;</td>\n",
       "      <td>&lt;class 'str'&gt;</td>\n",
       "      <td>&lt;class 'str'&gt;</td>\n",
       "      <td>&lt;class 'str'&gt;</td>\n",
       "      <td>&lt;class 'str'&gt;</td>\n",
       "      <td>&lt;class 'str'&gt;</td>\n",
       "      <td>&lt;class 'str'&gt;</td>\n",
       "      <td>&lt;class 'float'&gt;</td>\n",
       "      <td>&lt;class 'float'&gt;</td>\n",
       "      <td>&lt;class 'str'&gt;</td>\n",
       "      <td>&lt;class 'str'&gt;</td>\n",
       "    </tr>\n",
       "    <tr>\n",
       "      <th>1</th>\n",
       "      <td>&lt;class 'str'&gt;</td>\n",
       "      <td>&lt;class 'pandas._libs.tslibs.timestamps.Timesta...</td>\n",
       "      <td>&lt;class 'str'&gt;</td>\n",
       "      <td>&lt;class 'str'&gt;</td>\n",
       "      <td>&lt;class 'str'&gt;</td>\n",
       "      <td>&lt;class 'str'&gt;</td>\n",
       "      <td>&lt;class 'str'&gt;</td>\n",
       "      <td>&lt;class 'str'&gt;</td>\n",
       "      <td>&lt;class 'str'&gt;</td>\n",
       "      <td>&lt;class 'str'&gt;</td>\n",
       "      <td>&lt;class 'str'&gt;</td>\n",
       "      <td>&lt;class 'float'&gt;</td>\n",
       "      <td>&lt;class 'str'&gt;</td>\n",
       "      <td>&lt;class 'str'&gt;</td>\n",
       "    </tr>\n",
       "    <tr>\n",
       "      <th>2</th>\n",
       "      <td>&lt;class 'str'&gt;</td>\n",
       "      <td>&lt;class 'pandas._libs.tslibs.timestamps.Timesta...</td>\n",
       "      <td>&lt;class 'str'&gt;</td>\n",
       "      <td>&lt;class 'str'&gt;</td>\n",
       "      <td>&lt;class 'str'&gt;</td>\n",
       "      <td>&lt;class 'str'&gt;</td>\n",
       "      <td>&lt;class 'str'&gt;</td>\n",
       "      <td>&lt;class 'str'&gt;</td>\n",
       "      <td>&lt;class 'str'&gt;</td>\n",
       "      <td>&lt;class 'str'&gt;</td>\n",
       "      <td>&lt;class 'str'&gt;</td>\n",
       "      <td>&lt;class 'float'&gt;</td>\n",
       "      <td>&lt;class 'str'&gt;</td>\n",
       "      <td>&lt;class 'str'&gt;</td>\n",
       "    </tr>\n",
       "    <tr>\n",
       "      <th>3</th>\n",
       "      <td>&lt;class 'str'&gt;</td>\n",
       "      <td>&lt;class 'pandas._libs.tslibs.timestamps.Timesta...</td>\n",
       "      <td>&lt;class 'str'&gt;</td>\n",
       "      <td>&lt;class 'str'&gt;</td>\n",
       "      <td>&lt;class 'str'&gt;</td>\n",
       "      <td>&lt;class 'str'&gt;</td>\n",
       "      <td>&lt;class 'str'&gt;</td>\n",
       "      <td>&lt;class 'str'&gt;</td>\n",
       "      <td>&lt;class 'str'&gt;</td>\n",
       "      <td>&lt;class 'str'&gt;</td>\n",
       "      <td>&lt;class 'str'&gt;</td>\n",
       "      <td>&lt;class 'float'&gt;</td>\n",
       "      <td>&lt;class 'str'&gt;</td>\n",
       "      <td>&lt;class 'str'&gt;</td>\n",
       "    </tr>\n",
       "    <tr>\n",
       "      <th>4</th>\n",
       "      <td>&lt;class 'str'&gt;</td>\n",
       "      <td>&lt;class 'pandas._libs.tslibs.timestamps.Timesta...</td>\n",
       "      <td>&lt;class 'str'&gt;</td>\n",
       "      <td>&lt;class 'str'&gt;</td>\n",
       "      <td>&lt;class 'str'&gt;</td>\n",
       "      <td>&lt;class 'str'&gt;</td>\n",
       "      <td>&lt;class 'str'&gt;</td>\n",
       "      <td>&lt;class 'str'&gt;</td>\n",
       "      <td>&lt;class 'str'&gt;</td>\n",
       "      <td>&lt;class 'str'&gt;</td>\n",
       "      <td>&lt;class 'str'&gt;</td>\n",
       "      <td>&lt;class 'str'&gt;</td>\n",
       "      <td>&lt;class 'str'&gt;</td>\n",
       "      <td>&lt;class 'str'&gt;</td>\n",
       "    </tr>\n",
       "    <tr>\n",
       "      <th>...</th>\n",
       "      <td>...</td>\n",
       "      <td>...</td>\n",
       "      <td>...</td>\n",
       "      <td>...</td>\n",
       "      <td>...</td>\n",
       "      <td>...</td>\n",
       "      <td>...</td>\n",
       "      <td>...</td>\n",
       "      <td>...</td>\n",
       "      <td>...</td>\n",
       "      <td>...</td>\n",
       "      <td>...</td>\n",
       "      <td>...</td>\n",
       "      <td>...</td>\n",
       "    </tr>\n",
       "    <tr>\n",
       "      <th>995</th>\n",
       "      <td>&lt;class 'str'&gt;</td>\n",
       "      <td>&lt;class 'pandas._libs.tslibs.timestamps.Timesta...</td>\n",
       "      <td>&lt;class 'str'&gt;</td>\n",
       "      <td>&lt;class 'str'&gt;</td>\n",
       "      <td>&lt;class 'str'&gt;</td>\n",
       "      <td>&lt;class 'str'&gt;</td>\n",
       "      <td>&lt;class 'str'&gt;</td>\n",
       "      <td>&lt;class 'str'&gt;</td>\n",
       "      <td>&lt;class 'str'&gt;</td>\n",
       "      <td>&lt;class 'str'&gt;</td>\n",
       "      <td>&lt;class 'str'&gt;</td>\n",
       "      <td>&lt;class 'float'&gt;</td>\n",
       "      <td>&lt;class 'str'&gt;</td>\n",
       "      <td>&lt;class 'str'&gt;</td>\n",
       "    </tr>\n",
       "    <tr>\n",
       "      <th>996</th>\n",
       "      <td>&lt;class 'str'&gt;</td>\n",
       "      <td>&lt;class 'pandas._libs.tslibs.timestamps.Timesta...</td>\n",
       "      <td>&lt;class 'str'&gt;</td>\n",
       "      <td>&lt;class 'str'&gt;</td>\n",
       "      <td>&lt;class 'str'&gt;</td>\n",
       "      <td>&lt;class 'str'&gt;</td>\n",
       "      <td>&lt;class 'str'&gt;</td>\n",
       "      <td>&lt;class 'str'&gt;</td>\n",
       "      <td>&lt;class 'str'&gt;</td>\n",
       "      <td>&lt;class 'str'&gt;</td>\n",
       "      <td>&lt;class 'str'&gt;</td>\n",
       "      <td>&lt;class 'float'&gt;</td>\n",
       "      <td>&lt;class 'str'&gt;</td>\n",
       "      <td>&lt;class 'str'&gt;</td>\n",
       "    </tr>\n",
       "    <tr>\n",
       "      <th>997</th>\n",
       "      <td>&lt;class 'str'&gt;</td>\n",
       "      <td>&lt;class 'pandas._libs.tslibs.timestamps.Timesta...</td>\n",
       "      <td>&lt;class 'str'&gt;</td>\n",
       "      <td>&lt;class 'str'&gt;</td>\n",
       "      <td>&lt;class 'str'&gt;</td>\n",
       "      <td>&lt;class 'str'&gt;</td>\n",
       "      <td>&lt;class 'str'&gt;</td>\n",
       "      <td>&lt;class 'str'&gt;</td>\n",
       "      <td>&lt;class 'str'&gt;</td>\n",
       "      <td>&lt;class 'str'&gt;</td>\n",
       "      <td>&lt;class 'str'&gt;</td>\n",
       "      <td>&lt;class 'str'&gt;</td>\n",
       "      <td>&lt;class 'str'&gt;</td>\n",
       "      <td>&lt;class 'str'&gt;</td>\n",
       "    </tr>\n",
       "    <tr>\n",
       "      <th>998</th>\n",
       "      <td>&lt;class 'str'&gt;</td>\n",
       "      <td>&lt;class 'pandas._libs.tslibs.timestamps.Timesta...</td>\n",
       "      <td>&lt;class 'str'&gt;</td>\n",
       "      <td>&lt;class 'str'&gt;</td>\n",
       "      <td>&lt;class 'str'&gt;</td>\n",
       "      <td>&lt;class 'str'&gt;</td>\n",
       "      <td>&lt;class 'str'&gt;</td>\n",
       "      <td>&lt;class 'str'&gt;</td>\n",
       "      <td>&lt;class 'str'&gt;</td>\n",
       "      <td>&lt;class 'str'&gt;</td>\n",
       "      <td>&lt;class 'str'&gt;</td>\n",
       "      <td>&lt;class 'str'&gt;</td>\n",
       "      <td>&lt;class 'str'&gt;</td>\n",
       "      <td>&lt;class 'str'&gt;</td>\n",
       "    </tr>\n",
       "    <tr>\n",
       "      <th>999</th>\n",
       "      <td>&lt;class 'str'&gt;</td>\n",
       "      <td>&lt;class 'pandas._libs.tslibs.timestamps.Timesta...</td>\n",
       "      <td>&lt;class 'str'&gt;</td>\n",
       "      <td>&lt;class 'str'&gt;</td>\n",
       "      <td>&lt;class 'str'&gt;</td>\n",
       "      <td>&lt;class 'str'&gt;</td>\n",
       "      <td>&lt;class 'str'&gt;</td>\n",
       "      <td>&lt;class 'str'&gt;</td>\n",
       "      <td>&lt;class 'str'&gt;</td>\n",
       "      <td>&lt;class 'str'&gt;</td>\n",
       "      <td>&lt;class 'str'&gt;</td>\n",
       "      <td>&lt;class 'float'&gt;</td>\n",
       "      <td>&lt;class 'str'&gt;</td>\n",
       "      <td>&lt;class 'str'&gt;</td>\n",
       "    </tr>\n",
       "  </tbody>\n",
       "</table>\n",
       "<p>1000 rows × 14 columns</p>\n",
       "</div>"
      ],
      "text/plain": [
       "         animal_id                                           datetime  \\\n",
       "0    <class 'str'>  <class 'pandas._libs.tslibs.timestamps.Timesta...   \n",
       "1    <class 'str'>  <class 'pandas._libs.tslibs.timestamps.Timesta...   \n",
       "2    <class 'str'>  <class 'pandas._libs.tslibs.timestamps.Timesta...   \n",
       "3    <class 'str'>  <class 'pandas._libs.tslibs.timestamps.Timesta...   \n",
       "4    <class 'str'>  <class 'pandas._libs.tslibs.timestamps.Timesta...   \n",
       "..             ...                                                ...   \n",
       "995  <class 'str'>  <class 'pandas._libs.tslibs.timestamps.Timesta...   \n",
       "996  <class 'str'>  <class 'pandas._libs.tslibs.timestamps.Timesta...   \n",
       "997  <class 'str'>  <class 'pandas._libs.tslibs.timestamps.Timesta...   \n",
       "998  <class 'str'>  <class 'pandas._libs.tslibs.timestamps.Timesta...   \n",
       "999  <class 'str'>  <class 'pandas._libs.tslibs.timestamps.Timesta...   \n",
       "\n",
       "         monthyear  date_of_birth   outcome_type    animal_type  \\\n",
       "0    <class 'str'>  <class 'str'>  <class 'str'>  <class 'str'>   \n",
       "1    <class 'str'>  <class 'str'>  <class 'str'>  <class 'str'>   \n",
       "2    <class 'str'>  <class 'str'>  <class 'str'>  <class 'str'>   \n",
       "3    <class 'str'>  <class 'str'>  <class 'str'>  <class 'str'>   \n",
       "4    <class 'str'>  <class 'str'>  <class 'str'>  <class 'str'>   \n",
       "..             ...            ...            ...            ...   \n",
       "995  <class 'str'>  <class 'str'>  <class 'str'>  <class 'str'>   \n",
       "996  <class 'str'>  <class 'str'>  <class 'str'>  <class 'str'>   \n",
       "997  <class 'str'>  <class 'str'>  <class 'str'>  <class 'str'>   \n",
       "998  <class 'str'>  <class 'str'>  <class 'str'>  <class 'str'>   \n",
       "999  <class 'str'>  <class 'str'>  <class 'str'>  <class 'str'>   \n",
       "\n",
       "    sex_upon_outcome age_upon_outcome          breed          color  \\\n",
       "0      <class 'str'>    <class 'str'>  <class 'str'>  <class 'str'>   \n",
       "1      <class 'str'>    <class 'str'>  <class 'str'>  <class 'str'>   \n",
       "2      <class 'str'>    <class 'str'>  <class 'str'>  <class 'str'>   \n",
       "3      <class 'str'>    <class 'str'>  <class 'str'>  <class 'str'>   \n",
       "4      <class 'str'>    <class 'str'>  <class 'str'>  <class 'str'>   \n",
       "..               ...              ...            ...            ...   \n",
       "995    <class 'str'>    <class 'str'>  <class 'str'>  <class 'str'>   \n",
       "996    <class 'str'>    <class 'str'>  <class 'str'>  <class 'str'>   \n",
       "997    <class 'str'>    <class 'str'>  <class 'str'>  <class 'str'>   \n",
       "998    <class 'str'>    <class 'str'>  <class 'str'>  <class 'str'>   \n",
       "999    <class 'str'>    <class 'str'>  <class 'str'>  <class 'str'>   \n",
       "\n",
       "                name  outcome_subtype       new_age1       new_sex1  \n",
       "0    <class 'float'>  <class 'float'>  <class 'str'>  <class 'str'>  \n",
       "1      <class 'str'>  <class 'float'>  <class 'str'>  <class 'str'>  \n",
       "2      <class 'str'>  <class 'float'>  <class 'str'>  <class 'str'>  \n",
       "3      <class 'str'>  <class 'float'>  <class 'str'>  <class 'str'>  \n",
       "4      <class 'str'>    <class 'str'>  <class 'str'>  <class 'str'>  \n",
       "..               ...              ...            ...            ...  \n",
       "995    <class 'str'>  <class 'float'>  <class 'str'>  <class 'str'>  \n",
       "996    <class 'str'>  <class 'float'>  <class 'str'>  <class 'str'>  \n",
       "997    <class 'str'>    <class 'str'>  <class 'str'>  <class 'str'>  \n",
       "998    <class 'str'>    <class 'str'>  <class 'str'>  <class 'str'>  \n",
       "999    <class 'str'>  <class 'float'>  <class 'str'>  <class 'str'>  \n",
       "\n",
       "[1000 rows x 14 columns]"
      ]
     },
     "execution_count": 35,
     "metadata": {},
     "output_type": "execute_result"
    }
   ],
   "source": [
    "# This line will apply the base `type()` function to \n",
    "# all entries of the DataFrame.\n",
    "\n",
    "animals.applymap(type)"
   ]
  },
  {
   "cell_type": "markdown",
   "metadata": {
    "heading_collapsed": true
   },
   "source": [
    "# Level Up: Faster NumPy Methods"
   ]
  },
  {
   "cell_type": "markdown",
   "metadata": {
    "hidden": true
   },
   "source": [
    "In general, `np.where()` and `np.select()` are faster than `map()`. This won't matter too much with reasonably-sized data but can be a consideration for ***big data***."
   ]
  },
  {
   "cell_type": "markdown",
   "metadata": {
    "heading_collapsed": true,
    "hidden": true
   },
   "source": [
    "## NumPy's `where()` Method"
   ]
  },
  {
   "cell_type": "code",
   "execution_count": 36,
   "metadata": {
    "hidden": true,
    "scrolled": true
   },
   "outputs": [
    {
     "data": {
      "text/plain": [
       "0      3 months\n",
       "1       1 years\n",
       "2      2 months\n",
       "3       2 years\n",
       "4       7 years\n",
       "         ...   \n",
       "995     1 years\n",
       "996    5 months\n",
       "997     2 years\n",
       "998     2 years\n",
       "999     2 years\n",
       "Name: new_age2, Length: 1000, dtype: object"
      ]
     },
     "execution_count": 36,
     "metadata": {},
     "output_type": "execute_result"
    }
   ],
   "source": [
    "animals['new_age2'] = np.where(animals['age_upon_outcome'] == '1 year',\n",
    "                              '1 years', animals['age_upon_outcome'])\n",
    "animals['new_age2']"
   ]
  },
  {
   "cell_type": "code",
   "execution_count": 37,
   "metadata": {
    "hidden": true
   },
   "outputs": [
    {
     "data": {
      "text/plain": [
       "0"
      ]
     },
     "execution_count": 37,
     "metadata": {},
     "output_type": "execute_result"
    }
   ],
   "source": [
    "# Check we got the same results with np.where()\n",
    "(animals['new_age1'] != animals['new_age2']).sum()"
   ]
  },
  {
   "cell_type": "code",
   "execution_count": 38,
   "metadata": {
    "hidden": true
   },
   "outputs": [
    {
     "name": "stdout",
     "output_type": "stream",
     "text": [
      "216 µs ± 861 ns per loop (mean ± std. dev. of 7 runs, 1000 loops each)\n"
     ]
    }
   ],
   "source": [
    "# Let's time how long it takes .map() to run by running it multiple times\n",
    "%timeit animals['new_age1'] = animals['age_upon_outcome'].map(one_year)"
   ]
  },
  {
   "cell_type": "code",
   "execution_count": 39,
   "metadata": {
    "hidden": true
   },
   "outputs": [
    {
     "name": "stdout",
     "output_type": "stream",
     "text": [
      "168 µs ± 1.51 µs per loop (mean ± std. dev. of 7 runs, 10000 loops each)\n"
     ]
    }
   ],
   "source": [
    "# Let's time how long it takes np.where() to run by running it multiple times\n",
    "%timeit animals['new_age2'] = np.where(animals['age_upon_outcome'] == '1 year',\\\n",
    "                                       '1 years',animals['age_upon_outcome'])"
   ]
  },
  {
   "cell_type": "markdown",
   "metadata": {
    "heading_collapsed": true,
    "hidden": true
   },
   "source": [
    "## NumPy's `select()` Method"
   ]
  },
  {
   "cell_type": "markdown",
   "metadata": {
    "hidden": true
   },
   "source": [
    "Again, `numpy` will be faster:"
   ]
  },
  {
   "cell_type": "code",
   "execution_count": 40,
   "metadata": {
    "hidden": true
   },
   "outputs": [],
   "source": [
    "conditions = [animals['sex_upon_outcome'] == 'Neutered Male',\n",
    "             animals['sex_upon_outcome'] == 'Intact Male',\n",
    "             animals['sex_upon_outcome'] == 'Spayed Female',\n",
    "             animals['sex_upon_outcome'] == 'Intact Female',\n",
    "             animals['sex_upon_outcome'] == 'Unknown',\n",
    "             animals['sex_upon_outcome'] == 'NULL']\n",
    "\n",
    "choices = ['Male', 'Male', 'Female', 'Female', 'Unknown', 'Unknown']"
   ]
  },
  {
   "cell_type": "code",
   "execution_count": 41,
   "metadata": {
    "hidden": true
   },
   "outputs": [
    {
     "data": {
      "text/plain": [
       "0      Female\n",
       "1        Male\n",
       "2      Female\n",
       "3        Male\n",
       "4        Male\n",
       "        ...  \n",
       "995    Female\n",
       "996      Male\n",
       "997    Female\n",
       "998    Female\n",
       "999      Male\n",
       "Name: new_sex2, Length: 1000, dtype: object"
      ]
     },
     "execution_count": 41,
     "metadata": {},
     "output_type": "execute_result"
    }
   ],
   "source": [
    "animals['new_sex2'] = np.select(conditions, choices)\n",
    "animals['new_sex2']"
   ]
  },
  {
   "cell_type": "code",
   "execution_count": 42,
   "metadata": {
    "hidden": true
   },
   "outputs": [
    {
     "data": {
      "text/plain": [
       "0"
      ]
     },
     "execution_count": 42,
     "metadata": {},
     "output_type": "execute_result"
    }
   ],
   "source": [
    "# Check we got the same results with np.where()\n",
    "(animals['new_sex1'] != animals['new_sex2']).sum()"
   ]
  },
  {
   "cell_type": "code",
   "execution_count": 43,
   "metadata": {
    "hidden": true
   },
   "outputs": [
    {
     "name": "stdout",
     "output_type": "stream",
     "text": [
      "254 µs ± 5.22 µs per loop (mean ± std. dev. of 7 runs, 1000 loops each)\n"
     ]
    }
   ],
   "source": [
    "# Let's time how long it takes .map() to run by running it multiple times\n",
    "%timeit animals['new_sex1'] = animals['sex_upon_outcome'].map(sex_mapper)"
   ]
  },
  {
   "cell_type": "code",
   "execution_count": 44,
   "metadata": {
    "hidden": true
   },
   "outputs": [
    {
     "name": "stdout",
     "output_type": "stream",
     "text": [
      "241 µs ± 6.19 µs per loop (mean ± std. dev. of 7 runs, 1000 loops each)\n"
     ]
    }
   ],
   "source": [
    "# Let's time how long it takes np.select() to run by running it multiple times\n",
    "%timeit animals['new_sex2'] = np.select(conditions, choices)"
   ]
  },
  {
   "cell_type": "code",
   "execution_count": null,
   "metadata": {},
   "outputs": [],
   "source": []
  }
 ],
 "metadata": {
  "kernelspec": {
   "display_name": "Python 3",
   "language": "python",
   "name": "python3"
  },
  "language_info": {
   "codemirror_mode": {
    "name": "ipython",
    "version": 3
   },
   "file_extension": ".py",
   "mimetype": "text/x-python",
   "name": "python",
   "nbconvert_exporter": "python",
   "pygments_lexer": "ipython3",
   "version": "3.8.5"
  },
  "toc": {
   "base_numbering": 1,
   "nav_menu": {},
   "number_sections": true,
   "sideBar": true,
   "skip_h1_title": false,
   "title_cell": "Table of Contents",
   "title_sidebar": "TOC",
   "toc_cell": true,
   "toc_position": {
    "height": "calc(100% - 180px)",
    "left": "10px",
    "top": "150px",
    "width": "267px"
   },
   "toc_section_display": true,
   "toc_window_display": true
  }
 },
 "nbformat": 4,
 "nbformat_minor": 4
}
